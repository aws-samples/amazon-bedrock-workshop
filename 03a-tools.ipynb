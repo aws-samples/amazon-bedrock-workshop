{
 "cells": [
  {
   "cell_type": "markdown",
   "id": "9a670e06",
   "metadata": {},
   "source": [
    "# Converse API with tools"
   ]
  },
  {
   "cell_type": "markdown",
   "id": "91fbdf8b",
   "metadata": {},
   "source": [
    "## Init"
   ]
  },
  {
   "cell_type": "code",
   "execution_count": 33,
   "id": "bc68d006",
   "metadata": {},
   "outputs": [],
   "source": [
    "import json \n",
    "import math\n",
    "import urllib\n",
    "import boto3"
   ]
  },
  {
   "cell_type": "markdown",
   "id": "f5155bd9",
   "metadata": {},
   "source": [
    "## Define dependencies a tool error class\n"
   ]
  },
  {
   "cell_type": "markdown",
   "id": "2b8a0bc0",
   "metadata": {},
   "source": [
    "## Define a function to call Amazon Bedrock and return the response\n",
    "\n",
    "We’re going to call Anthropic Claude 3 Sonnet using the converse method. We pass it a list of messages and a list of tools. We also set an output token limit and set the temperature to 0 to reduce the variability between calls (During development and testing, it can be preferable to set temperature higher for more variability in responses).\n",
    "You can learn more about the Converse method [here](https://docs.aws.amazon.com/bedrock/latest/APIReference/API_runtime_Converse.html).\n"
   ]
  },
  {
   "cell_type": "code",
   "execution_count": 34,
   "id": "d96f3568",
   "metadata": {},
   "outputs": [],
   "source": [
    "def call_bedrock(message_list, tool_list):\n",
    "    session = boto3.Session()\n",
    "\n",
    "    bedrock = session.client(service_name=\"bedrock-runtime\")\n",
    "    if tool_list: \n",
    "        response = bedrock.converse(\n",
    "            modelId=\"anthropic.claude-3-sonnet-20240229-v1:0\",\n",
    "            messages=message_list,\n",
    "            inferenceConfig={\"maxTokens\": 2000, \"temperature\": 0},\n",
    "            toolConfig={\"tools\": tool_list},\n",
    "        )\n",
    "    else:\n",
    "        response = bedrock.converse(\n",
    "            modelId=\"anthropic.claude-3-sonnet-20240229-v1:0\",\n",
    "            messages=message_list,\n",
    "            inferenceConfig={\"maxTokens\": 2000, \"temperature\": 0},\n",
    "        )\n",
    "\n",
    "    return response"
   ]
  },
  {
   "cell_type": "markdown",
   "id": "ee7e0a64",
   "metadata": {},
   "source": [
    "## Add a function to handle tool use method calls\n",
    "\n",
    "We’ll implement this function as a simple series of if/elif statements to call basic math functions or getting weather. \n",
    "Note that we're deliberately skipping the tangent tool so something interesting can happen!\n"
   ]
  },
  {
   "cell_type": "markdown",
   "id": "82ad0da8",
   "metadata": {},
   "source": [
    "### Weather tool"
   ]
  },
  {
   "cell_type": "code",
   "execution_count": 35,
   "id": "10d57323",
   "metadata": {},
   "outputs": [],
   "source": [
    "def get_weather(city: str):\n",
    "    encoded_city = urllib.parse.quote(city)\n",
    "    url = f\"https://geocoding-api.open-meteo.com/v1/search?name={encoded_city}&count=1&language=en&format=json\"\n",
    "    with urllib.request.urlopen(url) as response:\n",
    "        location_data = json.loads(response.read().decode())\n",
    "        if not location_data[\"results\"]:\n",
    "            return {\"error\": \"City not found\"}\n",
    "\n",
    "        lat = location_data[\"results\"][0][\"latitude\"]\n",
    "        lon = location_data[\"results\"][0][\"longitude\"]\n",
    "\n",
    "    weather_url = f\"https://api.open-meteo.com/v1/forecast?latitude={lat}&longitude={lon}&current=temperature_2m,relative_humidity_2m,weather_code,wind_speed_10m&daily=weather_code,temperature_2m_max,temperature_2m_min&timezone=auto\"\n",
    "\n",
    "    with urllib.request.urlopen(weather_url) as response:\n",
    "        weather_data = json.loads(response.read().decode())\n",
    "\n",
    "    current = weather_data[\"current\"]\n",
    "    daily = weather_data[\"daily\"]\n",
    "\n",
    "    weather_codes = {\n",
    "        0: \"Clear sky\",\n",
    "        1: \"Mainly clear\",\n",
    "        2: \"Partly cloudy\",\n",
    "        3: \"Overcast\",\n",
    "        45: \"Fog\",\n",
    "        48: \"Depositing rime fog\",\n",
    "        51: \"Light drizzle\",\n",
    "        53: \"Moderate drizzle\",\n",
    "        55: \"Dense drizzle\",\n",
    "        61: \"Slight rain\",\n",
    "        63: \"Moderate rain\",\n",
    "        65: \"Heavy rain\",\n",
    "        71: \"Slight snow fall\",\n",
    "        73: \"Moderate snow fall\",\n",
    "        75: \"Heavy snow fall\",\n",
    "        77: \"Snow grains\",\n",
    "        80: \"Slight rain showers\",\n",
    "        81: \"Moderate rain showers\",\n",
    "        82: \"Violent rain showers\",\n",
    "        85: \"Slight snow showers\",\n",
    "        86: \"Heavy snow showers\",\n",
    "        95: \"Thunderstorm\",\n",
    "        96: \"Thunderstorm with slight hail\",\n",
    "        99: \"Thunderstorm with heavy hail\",\n",
    "    }\n",
    "    response_core = {\n",
    "        \"temperature\": current[\"temperature_2m\"],\n",
    "        \"condition\": weather_codes.get(current[\"weather_code\"], \"Unknown\"),\n",
    "        \"humidity\": current[\"relative_humidity_2m\"],\n",
    "        \"wind_speed\": current[\"wind_speed_10m\"],\n",
    "        \"forecast_max\": daily[\"temperature_2m_max\"][0],\n",
    "        \"forecast_min\": daily[\"temperature_2m_min\"][0],\n",
    "        \"forecast_condition\": weather_codes.get(daily[\"weather_code\"][0], \"Unknown\"),\n",
    "    }\n",
    "    return response_core"
   ]
  },
  {
   "cell_type": "code",
   "execution_count": 36,
   "id": "e3e15096",
   "metadata": {},
   "outputs": [
    {
     "data": {
      "text/plain": [
       "{'temperature': 22.6,\n",
       " 'condition': 'Clear sky',\n",
       " 'humidity': 66,\n",
       " 'wind_speed': 14.0,\n",
       " 'forecast_max': 24.6,\n",
       " 'forecast_min': 15.5,\n",
       " 'forecast_condition': 'Moderate rain'}"
      ]
     },
     "execution_count": 36,
     "metadata": {},
     "output_type": "execute_result"
    }
   ],
   "source": [
    "get_weather(\"Paris\")"
   ]
  },
  {
   "cell_type": "markdown",
   "id": "eb1bbe3e",
   "metadata": {},
   "source": [
    "### Defining the tools"
   ]
  },
  {
   "cell_type": "markdown",
   "id": "d23a375f",
   "metadata": {},
   "source": [
    "\n",
    "\n",
    "We’re using a custom ToolError class to handle some of the potential things that can go wrong with tool use."
   ]
  },
  {
   "cell_type": "code",
   "execution_count": 37,
   "id": "032ab625",
   "metadata": {},
   "outputs": [],
   "source": [
    "class ToolError(Exception):\n",
    "    pass"
   ]
  },
  {
   "cell_type": "code",
   "execution_count": 38,
   "id": "92db8142",
   "metadata": {},
   "outputs": [],
   "source": [
    "def get_tool_result(tool_use_block):\n",
    "\n",
    "    tool_use_name = tool_use_block[\"name\"]\n",
    "\n",
    "    print(f\"Using tool {tool_use_name}\")\n",
    "\n",
    "    # Note: We're deliberately excluding tangent so something magical can happen\n",
    "    if tool_use_name == \"cosine\":\n",
    "        return math.cos(tool_use_block[\"input\"][\"x\"])\n",
    "    elif tool_use_name == \"sine\":\n",
    "        return math.sin(tool_use_block[\"input\"][\"x\"])\n",
    "    elif tool_use_name == \"divide_numbers\":\n",
    "        return tool_use_block[\"input\"][\"x\"] / tool_use_block[\"input\"][\"y\"]\n",
    "    elif tool_use_name == \"get_weather\":\n",
    "        return get_weather(tool_use_block[\"input\"][\"city\"])\n",
    "    else:\n",
    "        raise ToolError(f\"Invalid function name: {tool_use_name}\")"
   ]
  },
  {
   "cell_type": "markdown",
   "id": "657a0736",
   "metadata": {},
   "source": [
    "## Add a function to handle LLM responses and determine if a follow-up tool call is needed\n",
    "The LLM may return a combination of text and tool use content blocks in its response. We’ll look for tooUse content blocks, attempt to run the requested tools, and return a message with a toolResult block if a tool was used.\n",
    "\n"
   ]
  },
  {
   "cell_type": "code",
   "execution_count": 39,
   "id": "3bb33e29",
   "metadata": {},
   "outputs": [],
   "source": [
    "def handle_response(response_message):\n",
    "\n",
    "    response_content_blocks = response_message[\"content\"]\n",
    "\n",
    "    follow_up_content_blocks = []\n",
    "\n",
    "    for content_block in response_content_blocks:\n",
    "        if \"toolUse\" in content_block:\n",
    "            tool_use_block = content_block[\"toolUse\"]\n",
    "\n",
    "            try:\n",
    "                tool_result_value = get_tool_result(tool_use_block)\n",
    "\n",
    "                if tool_result_value is not None:\n",
    "                    follow_up_content_blocks.append(\n",
    "                        {\n",
    "                            \"toolResult\": {\n",
    "                                \"toolUseId\": tool_use_block[\"toolUseId\"],\n",
    "                                \"content\": [{\"json\": {\"result\": tool_result_value}}],\n",
    "                            }\n",
    "                        }\n",
    "                    )\n",
    "\n",
    "            except ToolError as e:\n",
    "                follow_up_content_blocks.append(\n",
    "                    {\n",
    "                        \"toolResult\": {\n",
    "                            \"toolUseId\": tool_use_block[\"toolUseId\"],\n",
    "                            \"content\": [{\"text\": repr(e)}],\n",
    "                            \"status\": \"error\",\n",
    "                        }\n",
    "                    }\n",
    "                )\n",
    "\n",
    "    if len(follow_up_content_blocks) > 0:\n",
    "\n",
    "        follow_up_message = {\n",
    "            \"role\": \"user\",\n",
    "            \"content\": follow_up_content_blocks,\n",
    "        }\n",
    "\n",
    "        return follow_up_message\n",
    "    else:\n",
    "        return None"
   ]
  },
  {
   "cell_type": "markdown",
   "id": "c5ea6afe",
   "metadata": {},
   "source": [
    "## Add a function to run the request/response loop\n",
    "This function will run a request / response loop until either the LLM stops requesting tool use or a maximum number of loops have run.\n"
   ]
  },
  {
   "cell_type": "code",
   "execution_count": 40,
   "id": "e77d6850",
   "metadata": {},
   "outputs": [],
   "source": [
    "def run_loop(prompt, tool_list):\n",
    "    MAX_LOOPS = 6\n",
    "    loop_count = 0\n",
    "    continue_loop = True\n",
    "\n",
    "    message_list = [{\"role\": \"user\", \"content\": [{\"text\": prompt}]}]\n",
    "\n",
    "    while continue_loop:\n",
    "        response = call_bedrock(message_list, tool_list)\n",
    "\n",
    "        response_message = response[\"output\"][\"message\"]\n",
    "        message_list.append(response_message)\n",
    "\n",
    "        loop_count = loop_count + 1\n",
    "\n",
    "        if loop_count >= MAX_LOOPS:\n",
    "            print(f\"Hit loop limit: {loop_count}\")\n",
    "            break\n",
    "\n",
    "        follow_up_message = handle_response(response_message)\n",
    "\n",
    "        if follow_up_message is None:\n",
    "            # No remaining work to do, return final response to user\n",
    "            continue_loop = False\n",
    "        else:\n",
    "            message_list.append(follow_up_message)\n",
    "\n",
    "    return message_list"
   ]
  },
  {
   "cell_type": "markdown",
   "id": "12e90d2c",
   "metadata": {},
   "source": [
    "## Define the tools to use\n",
    "We’re defining four tools for basic trigonometry functions, a division function and get weather.To deep dive into tool definition format, check [here](https://community.aws/content/2hWA16FSt2bIzKs0Z1fgJBwu589/generating-json-with-the-amazon-bedrock-converse-api).\n"
   ]
  },
  {
   "cell_type": "code",
   "execution_count": 41,
   "id": "d08fe6f4",
   "metadata": {},
   "outputs": [],
   "source": [
    "tools = [\n",
    "    {\n",
    "        \"toolSpec\": {\n",
    "            \"name\": \"cosine\",\n",
    "            \"description\": \"Calculate the cosine of x.\",\n",
    "            \"inputSchema\": {\n",
    "                \"json\": {\n",
    "                    \"type\": \"object\",\n",
    "                    \"properties\": {\n",
    "                        \"x\": {\n",
    "                            \"type\": \"number\",\n",
    "                            \"description\": \"The number to pass to the function.\",\n",
    "                        }\n",
    "                    },\n",
    "                    \"required\": [\"x\"],\n",
    "                }\n",
    "            },\n",
    "        }\n",
    "    },\n",
    "    {\n",
    "        \"toolSpec\": {\n",
    "            \"name\": \"sine\",\n",
    "            \"description\": \"Calculate the sine of x.\",\n",
    "            \"inputSchema\": {\n",
    "                \"json\": {\n",
    "                    \"type\": \"object\",\n",
    "                    \"properties\": {\n",
    "                        \"x\": {\n",
    "                            \"type\": \"number\",\n",
    "                            \"description\": \"The number to pass to the function.\",\n",
    "                        }\n",
    "                    },\n",
    "                    \"required\": [\"x\"],\n",
    "                }\n",
    "            },\n",
    "        }\n",
    "    },\n",
    "    {\n",
    "        \"toolSpec\": {\n",
    "            \"name\": \"tangent\",\n",
    "            \"description\": \"Calculate the tangent of x.\",\n",
    "            \"inputSchema\": {\n",
    "                \"json\": {\n",
    "                    \"type\": \"object\",\n",
    "                    \"properties\": {\n",
    "                        \"x\": {\n",
    "                            \"type\": \"number\",\n",
    "                            \"description\": \"The number to pass to the function.\",\n",
    "                        }\n",
    "                    },\n",
    "                    \"required\": [\"x\"],\n",
    "                }\n",
    "            },\n",
    "        }\n",
    "    },\n",
    "    {\n",
    "        \"toolSpec\": {\n",
    "            \"name\": \"divide_numbers\",\n",
    "            \"description\": \"Divide x by y.\",\n",
    "            \"inputSchema\": {\n",
    "                \"json\": {\n",
    "                    \"type\": \"object\",\n",
    "                    \"properties\": {\n",
    "                        \"x\": {\"type\": \"number\", \"description\": \"The numerator.\"},\n",
    "                        \"y\": {\"type\": \"number\", \"description\": \"The denominator.\"},\n",
    "                    },\n",
    "                    \"required\": [\"x\", \"y\"],\n",
    "                }\n",
    "            },\n",
    "        }\n",
    "    },\n",
    "    {\n",
    "        \"toolSpec\": {\n",
    "            \"name\": \"get_weather\",\n",
    "            \"description\": \"Get the weather for a city.\",\n",
    "            \"inputSchema\": {\n",
    "                \"json\": {\n",
    "                    \"type\": \"object\",\n",
    "                    \"properties\": {\n",
    "                        \"city\": {\"type\": \"string\", \"description\": \"The city to get the weather for.\"},\n",
    "                    },\n",
    "                    \"required\": [\"city\"],\n",
    "                }\n",
    "            },\n",
    "        }\n",
    "    },\n",
    "]"
   ]
  },
  {
   "cell_type": "markdown",
   "id": "e8682114",
   "metadata": {},
   "source": [
    "## Pass a prompt to start the loop\n"
   ]
  },
  {
   "cell_type": "markdown",
   "id": "d8086343",
   "metadata": {},
   "source": [
    "### Tangent\n",
    "We’re asking Anthropic Claude to calculate the tangent of 7. We’re expecting a response with the calculated value.\n"
   ]
  },
  {
   "cell_type": "markdown",
   "id": "0a8475cd",
   "metadata": {},
   "source": [
    "But..."
   ]
  },
  {
   "cell_type": "code",
   "execution_count": 42,
   "id": "0e45c488",
   "metadata": {},
   "outputs": [
    {
     "name": "stdout",
     "output_type": "stream",
     "text": [
      "\n",
      "MESSAGES:\n",
      "\n",
      "[\n",
      "  {\n",
      "    \"role\": \"user\",\n",
      "    \"content\": [\n",
      "      {\n",
      "        \"text\": \"What is the tangent of 7 ?\"\n",
      "      }\n",
      "    ]\n",
      "  },\n",
      "  {\n",
      "    \"role\": \"assistant\",\n",
      "    \"content\": [\n",
      "      {\n",
      "        \"text\": \"The tangent function (tan) is a trigonometric function that gives the ratio of the opposite side to the adjacent side of a right-angled triangle.\\n\\nHowever, the tangent is only defined for angles between -90\\u00b0 and 90\\u00b0 (excluding -90\\u00b0 and 90\\u00b0). This is because for angles outside this range, the triangle would have an undefined opposite or adjacent side.\\n\\nThe value 7 by itself does not represent an angle in radians or degrees. So the tangent of 7 is undefined or meaningless in the context of trigonometry.\\n\\nIf you meant to ask for the tangent of an angle measured in radians or degrees, you would need to provide that angle value instead of just the number 7.\"\n",
      "      }\n",
      "    ]\n",
      "  }\n",
      "]\n"
     ]
    }
   ],
   "source": [
    "messages = run_loop(\"What is the tangent of 7 ?\", [])\n",
    "\n",
    "print(\"\\nMESSAGES:\\n\")\n",
    "print(json.dumps(messages, indent=2))"
   ]
  },
  {
   "cell_type": "markdown",
   "id": "30001285",
   "metadata": {},
   "source": [
    "What if we we use tools ?"
   ]
  },
  {
   "cell_type": "code",
   "execution_count": 43,
   "id": "39fb0830",
   "metadata": {},
   "outputs": [
    {
     "name": "stdout",
     "output_type": "stream",
     "text": [
      "Using tool tangent\n",
      "Using tool sine\n",
      "Using tool cosine\n",
      "Using tool divide_numbers\n",
      "\n",
      "MESSAGES:\n",
      "\n",
      "[\n",
      "  {\n",
      "    \"role\": \"user\",\n",
      "    \"content\": [\n",
      "      {\n",
      "        \"text\": \"What is the tangent of 7 ?\"\n",
      "      }\n",
      "    ]\n",
      "  },\n",
      "  {\n",
      "    \"role\": \"assistant\",\n",
      "    \"content\": [\n",
      "      {\n",
      "        \"text\": \"To calculate the tangent of 7, we can use the \\\"tangent\\\" tool:\"\n",
      "      },\n",
      "      {\n",
      "        \"toolUse\": {\n",
      "          \"toolUseId\": \"tooluse_rm1njQ83SSCXl6pvy4SXgw\",\n",
      "          \"name\": \"tangent\",\n",
      "          \"input\": {\n",
      "            \"x\": 7\n",
      "          }\n",
      "        }\n",
      "      }\n",
      "    ]\n",
      "  },\n",
      "  {\n",
      "    \"role\": \"user\",\n",
      "    \"content\": [\n",
      "      {\n",
      "        \"toolResult\": {\n",
      "          \"toolUseId\": \"tooluse_rm1njQ83SSCXl6pvy4SXgw\",\n",
      "          \"content\": [\n",
      "            {\n",
      "              \"text\": \"ToolError('Invalid function name: tangent')\"\n",
      "            }\n",
      "          ],\n",
      "          \"status\": \"error\"\n",
      "        }\n",
      "      }\n",
      "    ]\n",
      "  },\n",
      "  {\n",
      "    \"role\": \"assistant\",\n",
      "    \"content\": [\n",
      "      {\n",
      "        \"text\": \"Oops, it seems the \\\"tangent\\\" tool is not available in this environment. Let me calculate the tangent of 7 manually:\\n\\nThe tangent is defined as tan(x) = sin(x) / cos(x)\\n\\nTo find sin(7) and cos(7), I can use the sine and cosine tools:\"\n",
      "      },\n",
      "      {\n",
      "        \"toolUse\": {\n",
      "          \"toolUseId\": \"tooluse_xNjk5VPwRxmMgi4ISJyGyQ\",\n",
      "          \"name\": \"sine\",\n",
      "          \"input\": {\n",
      "            \"x\": 7\n",
      "          }\n",
      "        }\n",
      "      }\n",
      "    ]\n",
      "  },\n",
      "  {\n",
      "    \"role\": \"user\",\n",
      "    \"content\": [\n",
      "      {\n",
      "        \"toolResult\": {\n",
      "          \"toolUseId\": \"tooluse_xNjk5VPwRxmMgi4ISJyGyQ\",\n",
      "          \"content\": [\n",
      "            {\n",
      "              \"json\": {\n",
      "                \"result\": 0.6569865987187891\n",
      "              }\n",
      "            }\n",
      "          ]\n",
      "        }\n",
      "      }\n",
      "    ]\n",
      "  },\n",
      "  {\n",
      "    \"role\": \"assistant\",\n",
      "    \"content\": [\n",
      "      {\n",
      "        \"toolUse\": {\n",
      "          \"toolUseId\": \"tooluse_mYW5OjvjRGOa_FFMujQDYA\",\n",
      "          \"name\": \"cosine\",\n",
      "          \"input\": {\n",
      "            \"x\": 7\n",
      "          }\n",
      "        }\n",
      "      }\n",
      "    ]\n",
      "  },\n",
      "  {\n",
      "    \"role\": \"user\",\n",
      "    \"content\": [\n",
      "      {\n",
      "        \"toolResult\": {\n",
      "          \"toolUseId\": \"tooluse_mYW5OjvjRGOa_FFMujQDYA\",\n",
      "          \"content\": [\n",
      "            {\n",
      "              \"json\": {\n",
      "                \"result\": 0.7539022543433046\n",
      "              }\n",
      "            }\n",
      "          ]\n",
      "        }\n",
      "      }\n",
      "    ]\n",
      "  },\n",
      "  {\n",
      "    \"role\": \"assistant\",\n",
      "    \"content\": [\n",
      "      {\n",
      "        \"text\": \"So sin(7) = 0.6569865987187891 and cos(7) = 0.7539022543433046\\n\\nTo find tan(7), I divide sin(7) by cos(7):\"\n",
      "      },\n",
      "      {\n",
      "        \"toolUse\": {\n",
      "          \"toolUseId\": \"tooluse_OGLzsI3zSpOYwZ2P61W5hg\",\n",
      "          \"name\": \"divide_numbers\",\n",
      "          \"input\": {\n",
      "            \"x\": 0.6569865987187891,\n",
      "            \"y\": 0.7539022543433046\n",
      "          }\n",
      "        }\n",
      "      }\n",
      "    ]\n",
      "  },\n",
      "  {\n",
      "    \"role\": \"user\",\n",
      "    \"content\": [\n",
      "      {\n",
      "        \"toolResult\": {\n",
      "          \"toolUseId\": \"tooluse_OGLzsI3zSpOYwZ2P61W5hg\",\n",
      "          \"content\": [\n",
      "            {\n",
      "              \"json\": {\n",
      "                \"result\": 0.8714479827243188\n",
      "              }\n",
      "            }\n",
      "          ]\n",
      "        }\n",
      "      }\n",
      "    ]\n",
      "  },\n",
      "  {\n",
      "    \"role\": \"assistant\",\n",
      "    \"content\": [\n",
      "      {\n",
      "        \"text\": \"Therefore, the tangent of 7 is 0.8714479827243188.\"\n",
      "      }\n",
      "    ]\n",
      "  }\n",
      "]\n"
     ]
    }
   ],
   "source": [
    "messages = run_loop(\"What is the tangent of 7 ?\", tools)\n",
    "\n",
    "print(\"\\nMESSAGES:\\n\")\n",
    "print(json.dumps(messages, indent=2))"
   ]
  },
  {
   "cell_type": "markdown",
   "id": "230f5e77",
   "metadata": {},
   "source": [
    "### Weather"
   ]
  },
  {
   "cell_type": "markdown",
   "id": "9802ba00",
   "metadata": {},
   "source": [
    "We can ask Anthropic Claude to get the weather in Paris. We’re expecting a response with the current weather in Paris."
   ]
  },
  {
   "cell_type": "markdown",
   "id": "b3f3f2b9",
   "metadata": {},
   "source": [
    "But..."
   ]
  },
  {
   "cell_type": "code",
   "execution_count": 44,
   "id": "65424f13",
   "metadata": {},
   "outputs": [
    {
     "name": "stdout",
     "output_type": "stream",
     "text": [
      "\n",
      "MESSAGES:\n",
      "\n",
      "[\n",
      "    {\n",
      "        \"role\": \"user\",\n",
      "        \"content\": [\n",
      "            {\n",
      "                \"text\": \"What is Paris weather ?\"\n",
      "            }\n",
      "        ]\n",
      "    },\n",
      "    {\n",
      "        \"role\": \"assistant\",\n",
      "        \"content\": [\n",
      "            {\n",
      "                \"text\": \"Unfortunately, I don't have up-to-the-minute weather data for Paris. The weather can vary quite a bit in Paris depending on the time of year. Here are some general points about the typical weather in Paris:\\n\\n- Spring (March-May) - Mild temperatures, with highs around 15-20\\u00b0C. Spring can be rainy at times.\\n\\n- Summer (June-August) - Warm to hot, with average highs around 24-27\\u00b0C. Summer brings more sunshine but can also have occasional thunderstorms.\\n\\n- Fall (September-November) - Cool temperatures with highs of 15-20\\u00b0C. Fall tends to be rainier than summer.\\n\\n- Winter (December-February) - Quite cold, with average highs around 7-9\\u00b0C and lows near freezing. Winter brings clouds, rain and occasional snow flurries.\\n\\nThe weather can fluctuate a fair amount day-to-day in Paris. To get an accurate, current forecast for Paris, I'd recommend checking an online weather report or app that has up-to-date data from meteorological sources. Let me know if you need any other details!\"\n",
      "            }\n",
      "        ]\n",
      "    }\n",
      "]\n"
     ]
    }
   ],
   "source": [
    "messages = run_loop(\"What is Paris weather ?\", [])\n",
    "\n",
    "print(\"\\nMESSAGES:\\n\")\n",
    "print(json.dumps(messages, indent=4))"
   ]
  },
  {
   "cell_type": "markdown",
   "id": "51756d22",
   "metadata": {},
   "source": [
    "What if we we use tools ?"
   ]
  },
  {
   "cell_type": "code",
   "execution_count": 45,
   "id": "7b9b3ab2",
   "metadata": {},
   "outputs": [
    {
     "name": "stdout",
     "output_type": "stream",
     "text": [
      "Using tool get_weather\n",
      "\n",
      "MESSAGES:\n",
      "\n",
      "[\n",
      "    {\n",
      "        \"role\": \"user\",\n",
      "        \"content\": [\n",
      "            {\n",
      "                \"text\": \"What is Paris weather ?\"\n",
      "            }\n",
      "        ]\n",
      "    },\n",
      "    {\n",
      "        \"role\": \"assistant\",\n",
      "        \"content\": [\n",
      "            {\n",
      "                \"text\": \"Okay, let me get the weather for Paris using the available tool:\"\n",
      "            },\n",
      "            {\n",
      "                \"toolUse\": {\n",
      "                    \"toolUseId\": \"tooluse_GKlTG6xnTsGnZYtzfN_-cg\",\n",
      "                    \"name\": \"get_weather\",\n",
      "                    \"input\": {\n",
      "                        \"city\": \"Paris\"\n",
      "                    }\n",
      "                }\n",
      "            }\n",
      "        ]\n",
      "    },\n",
      "    {\n",
      "        \"role\": \"user\",\n",
      "        \"content\": [\n",
      "            {\n",
      "                \"toolResult\": {\n",
      "                    \"toolUseId\": \"tooluse_GKlTG6xnTsGnZYtzfN_-cg\",\n",
      "                    \"content\": [\n",
      "                        {\n",
      "                            \"json\": {\n",
      "                                \"result\": {\n",
      "                                    \"temperature\": 22.6,\n",
      "                                    \"condition\": \"Clear sky\",\n",
      "                                    \"humidity\": 66,\n",
      "                                    \"wind_speed\": 14.0,\n",
      "                                    \"forecast_max\": 24.6,\n",
      "                                    \"forecast_min\": 15.5,\n",
      "                                    \"forecast_condition\": \"Moderate rain\"\n",
      "                                }\n",
      "                            }\n",
      "                        }\n",
      "                    ]\n",
      "                }\n",
      "            }\n",
      "        ]\n",
      "    },\n",
      "    {\n",
      "        \"role\": \"assistant\",\n",
      "        \"content\": [\n",
      "            {\n",
      "                \"text\": \"The current weather in Paris is clear sky with a temperature of 22.6\\u00b0C. The humidity is 66% and the wind speed is 14.0 km/h. The forecast for later shows moderate rain with a maximum temperature of 24.6\\u00b0C and minimum of 15.5\\u00b0C.\"\n",
      "            }\n",
      "        ]\n",
      "    }\n",
      "]\n"
     ]
    }
   ],
   "source": [
    "messages = run_loop(\"What is Paris weather ?\", tools)\n",
    "\n",
    "print(\"\\nMESSAGES:\\n\")\n",
    "print(json.dumps(messages, indent=4))"
   ]
  },
  {
   "cell_type": "markdown",
   "id": "7b0566da",
   "metadata": {},
   "source": [
    "### Not needing tool question, but still using tools\n"
   ]
  },
  {
   "cell_type": "code",
   "execution_count": 46,
   "id": "80e3ce6c",
   "metadata": {},
   "outputs": [
    {
     "name": "stdout",
     "output_type": "stream",
     "text": [
      "\n",
      "MESSAGES:\n",
      "\n",
      "[\n",
      "    {\n",
      "        \"role\": \"user\",\n",
      "        \"content\": [\n",
      "            {\n",
      "                \"text\": \"Who is Barack Obama ?\"\n",
      "            }\n",
      "        ]\n",
      "    },\n",
      "    {\n",
      "        \"role\": \"assistant\",\n",
      "        \"content\": [\n",
      "            {\n",
      "                \"text\": \"Barack Obama is an American politician who served as the 44th president of the United States from 2009 to 2017. Some key facts about him:\\n\\n- He was born on August 4, 1961 in Honolulu, Hawaii. He was the first African American president.\\n\\n- Before becoming president, he was a U.S. Senator representing Illinois from 2005 to 2008. \\n\\n- His presidential campaign calling for hope and change resonated with many Americans. He was elected in 2008 defeating John McCain and was re-elected in 2012 defeating Mitt Romney.\\n\\n- Major achievements as president include the Affordable Care Act (Obamacare) to reform healthcare, the economic stimulus package to address the Great Recession, the repeal of Don't Ask Don't Tell allowing LGBT people to serve openly in the military, and the killing of Osama bin Laden.\\n\\n- He was awarded the 2009 Nobel Peace Prize for \\\"his extraordinary efforts to strengthen international diplomacy and cooperation between people.\\\"\\n\\n- After leaving office, he wrote the memoir \\\"A Promised Land\\\" about his presidency. He and his wife Michelle remain influential public figures.\\n\\nSo in summary, Barack Obama was the first African American U.S. president who served two terms from 2009-2017 and is considered a transformative and historic figure.\"\n",
      "            }\n",
      "        ]\n",
      "    }\n",
      "]\n"
     ]
    }
   ],
   "source": [
    "messages = run_loop(\"Who is Barack Obama ?\", tools)\n",
    "\n",
    "print(\"\\nMESSAGES:\\n\")\n",
    "print(json.dumps(messages, indent=4))"
   ]
  }
 ],
 "metadata": {
  "availableInstances": [
   {
    "_defaultOrder": 0,
    "_isFastLaunch": true,
    "category": "General purpose",
    "gpuNum": 0,
    "hideHardwareSpecs": false,
    "memoryGiB": 4,
    "name": "ml.t3.medium",
    "vcpuNum": 2
   },
   {
    "_defaultOrder": 1,
    "_isFastLaunch": false,
    "category": "General purpose",
    "gpuNum": 0,
    "hideHardwareSpecs": false,
    "memoryGiB": 8,
    "name": "ml.t3.large",
    "vcpuNum": 2
   },
   {
    "_defaultOrder": 2,
    "_isFastLaunch": false,
    "category": "General purpose",
    "gpuNum": 0,
    "hideHardwareSpecs": false,
    "memoryGiB": 16,
    "name": "ml.t3.xlarge",
    "vcpuNum": 4
   },
   {
    "_defaultOrder": 3,
    "_isFastLaunch": false,
    "category": "General purpose",
    "gpuNum": 0,
    "hideHardwareSpecs": false,
    "memoryGiB": 32,
    "name": "ml.t3.2xlarge",
    "vcpuNum": 8
   },
   {
    "_defaultOrder": 4,
    "_isFastLaunch": true,
    "category": "General purpose",
    "gpuNum": 0,
    "hideHardwareSpecs": false,
    "memoryGiB": 8,
    "name": "ml.m5.large",
    "vcpuNum": 2
   },
   {
    "_defaultOrder": 5,
    "_isFastLaunch": false,
    "category": "General purpose",
    "gpuNum": 0,
    "hideHardwareSpecs": false,
    "memoryGiB": 16,
    "name": "ml.m5.xlarge",
    "vcpuNum": 4
   },
   {
    "_defaultOrder": 6,
    "_isFastLaunch": false,
    "category": "General purpose",
    "gpuNum": 0,
    "hideHardwareSpecs": false,
    "memoryGiB": 32,
    "name": "ml.m5.2xlarge",
    "vcpuNum": 8
   },
   {
    "_defaultOrder": 7,
    "_isFastLaunch": false,
    "category": "General purpose",
    "gpuNum": 0,
    "hideHardwareSpecs": false,
    "memoryGiB": 64,
    "name": "ml.m5.4xlarge",
    "vcpuNum": 16
   },
   {
    "_defaultOrder": 8,
    "_isFastLaunch": false,
    "category": "General purpose",
    "gpuNum": 0,
    "hideHardwareSpecs": false,
    "memoryGiB": 128,
    "name": "ml.m5.8xlarge",
    "vcpuNum": 32
   },
   {
    "_defaultOrder": 9,
    "_isFastLaunch": false,
    "category": "General purpose",
    "gpuNum": 0,
    "hideHardwareSpecs": false,
    "memoryGiB": 192,
    "name": "ml.m5.12xlarge",
    "vcpuNum": 48
   },
   {
    "_defaultOrder": 10,
    "_isFastLaunch": false,
    "category": "General purpose",
    "gpuNum": 0,
    "hideHardwareSpecs": false,
    "memoryGiB": 256,
    "name": "ml.m5.16xlarge",
    "vcpuNum": 64
   },
   {
    "_defaultOrder": 11,
    "_isFastLaunch": false,
    "category": "General purpose",
    "gpuNum": 0,
    "hideHardwareSpecs": false,
    "memoryGiB": 384,
    "name": "ml.m5.24xlarge",
    "vcpuNum": 96
   },
   {
    "_defaultOrder": 12,
    "_isFastLaunch": false,
    "category": "General purpose",
    "gpuNum": 0,
    "hideHardwareSpecs": false,
    "memoryGiB": 8,
    "name": "ml.m5d.large",
    "vcpuNum": 2
   },
   {
    "_defaultOrder": 13,
    "_isFastLaunch": false,
    "category": "General purpose",
    "gpuNum": 0,
    "hideHardwareSpecs": false,
    "memoryGiB": 16,
    "name": "ml.m5d.xlarge",
    "vcpuNum": 4
   },
   {
    "_defaultOrder": 14,
    "_isFastLaunch": false,
    "category": "General purpose",
    "gpuNum": 0,
    "hideHardwareSpecs": false,
    "memoryGiB": 32,
    "name": "ml.m5d.2xlarge",
    "vcpuNum": 8
   },
   {
    "_defaultOrder": 15,
    "_isFastLaunch": false,
    "category": "General purpose",
    "gpuNum": 0,
    "hideHardwareSpecs": false,
    "memoryGiB": 64,
    "name": "ml.m5d.4xlarge",
    "vcpuNum": 16
   },
   {
    "_defaultOrder": 16,
    "_isFastLaunch": false,
    "category": "General purpose",
    "gpuNum": 0,
    "hideHardwareSpecs": false,
    "memoryGiB": 128,
    "name": "ml.m5d.8xlarge",
    "vcpuNum": 32
   },
   {
    "_defaultOrder": 17,
    "_isFastLaunch": false,
    "category": "General purpose",
    "gpuNum": 0,
    "hideHardwareSpecs": false,
    "memoryGiB": 192,
    "name": "ml.m5d.12xlarge",
    "vcpuNum": 48
   },
   {
    "_defaultOrder": 18,
    "_isFastLaunch": false,
    "category": "General purpose",
    "gpuNum": 0,
    "hideHardwareSpecs": false,
    "memoryGiB": 256,
    "name": "ml.m5d.16xlarge",
    "vcpuNum": 64
   },
   {
    "_defaultOrder": 19,
    "_isFastLaunch": false,
    "category": "General purpose",
    "gpuNum": 0,
    "hideHardwareSpecs": false,
    "memoryGiB": 384,
    "name": "ml.m5d.24xlarge",
    "vcpuNum": 96
   },
   {
    "_defaultOrder": 20,
    "_isFastLaunch": false,
    "category": "General purpose",
    "gpuNum": 0,
    "hideHardwareSpecs": true,
    "memoryGiB": 0,
    "name": "ml.geospatial.interactive",
    "supportedImageNames": [
     "sagemaker-geospatial-v1-0"
    ],
    "vcpuNum": 0
   },
   {
    "_defaultOrder": 21,
    "_isFastLaunch": true,
    "category": "Compute optimized",
    "gpuNum": 0,
    "hideHardwareSpecs": false,
    "memoryGiB": 4,
    "name": "ml.c5.large",
    "vcpuNum": 2
   },
   {
    "_defaultOrder": 22,
    "_isFastLaunch": false,
    "category": "Compute optimized",
    "gpuNum": 0,
    "hideHardwareSpecs": false,
    "memoryGiB": 8,
    "name": "ml.c5.xlarge",
    "vcpuNum": 4
   },
   {
    "_defaultOrder": 23,
    "_isFastLaunch": false,
    "category": "Compute optimized",
    "gpuNum": 0,
    "hideHardwareSpecs": false,
    "memoryGiB": 16,
    "name": "ml.c5.2xlarge",
    "vcpuNum": 8
   },
   {
    "_defaultOrder": 24,
    "_isFastLaunch": false,
    "category": "Compute optimized",
    "gpuNum": 0,
    "hideHardwareSpecs": false,
    "memoryGiB": 32,
    "name": "ml.c5.4xlarge",
    "vcpuNum": 16
   },
   {
    "_defaultOrder": 25,
    "_isFastLaunch": false,
    "category": "Compute optimized",
    "gpuNum": 0,
    "hideHardwareSpecs": false,
    "memoryGiB": 72,
    "name": "ml.c5.9xlarge",
    "vcpuNum": 36
   },
   {
    "_defaultOrder": 26,
    "_isFastLaunch": false,
    "category": "Compute optimized",
    "gpuNum": 0,
    "hideHardwareSpecs": false,
    "memoryGiB": 96,
    "name": "ml.c5.12xlarge",
    "vcpuNum": 48
   },
   {
    "_defaultOrder": 27,
    "_isFastLaunch": false,
    "category": "Compute optimized",
    "gpuNum": 0,
    "hideHardwareSpecs": false,
    "memoryGiB": 144,
    "name": "ml.c5.18xlarge",
    "vcpuNum": 72
   },
   {
    "_defaultOrder": 28,
    "_isFastLaunch": false,
    "category": "Compute optimized",
    "gpuNum": 0,
    "hideHardwareSpecs": false,
    "memoryGiB": 192,
    "name": "ml.c5.24xlarge",
    "vcpuNum": 96
   },
   {
    "_defaultOrder": 29,
    "_isFastLaunch": true,
    "category": "Accelerated computing",
    "gpuNum": 1,
    "hideHardwareSpecs": false,
    "memoryGiB": 16,
    "name": "ml.g4dn.xlarge",
    "vcpuNum": 4
   },
   {
    "_defaultOrder": 30,
    "_isFastLaunch": false,
    "category": "Accelerated computing",
    "gpuNum": 1,
    "hideHardwareSpecs": false,
    "memoryGiB": 32,
    "name": "ml.g4dn.2xlarge",
    "vcpuNum": 8
   },
   {
    "_defaultOrder": 31,
    "_isFastLaunch": false,
    "category": "Accelerated computing",
    "gpuNum": 1,
    "hideHardwareSpecs": false,
    "memoryGiB": 64,
    "name": "ml.g4dn.4xlarge",
    "vcpuNum": 16
   },
   {
    "_defaultOrder": 32,
    "_isFastLaunch": false,
    "category": "Accelerated computing",
    "gpuNum": 1,
    "hideHardwareSpecs": false,
    "memoryGiB": 128,
    "name": "ml.g4dn.8xlarge",
    "vcpuNum": 32
   },
   {
    "_defaultOrder": 33,
    "_isFastLaunch": false,
    "category": "Accelerated computing",
    "gpuNum": 4,
    "hideHardwareSpecs": false,
    "memoryGiB": 192,
    "name": "ml.g4dn.12xlarge",
    "vcpuNum": 48
   },
   {
    "_defaultOrder": 34,
    "_isFastLaunch": false,
    "category": "Accelerated computing",
    "gpuNum": 1,
    "hideHardwareSpecs": false,
    "memoryGiB": 256,
    "name": "ml.g4dn.16xlarge",
    "vcpuNum": 64
   },
   {
    "_defaultOrder": 35,
    "_isFastLaunch": false,
    "category": "Accelerated computing",
    "gpuNum": 1,
    "hideHardwareSpecs": false,
    "memoryGiB": 61,
    "name": "ml.p3.2xlarge",
    "vcpuNum": 8
   },
   {
    "_defaultOrder": 36,
    "_isFastLaunch": false,
    "category": "Accelerated computing",
    "gpuNum": 4,
    "hideHardwareSpecs": false,
    "memoryGiB": 244,
    "name": "ml.p3.8xlarge",
    "vcpuNum": 32
   },
   {
    "_defaultOrder": 37,
    "_isFastLaunch": false,
    "category": "Accelerated computing",
    "gpuNum": 8,
    "hideHardwareSpecs": false,
    "memoryGiB": 488,
    "name": "ml.p3.16xlarge",
    "vcpuNum": 64
   },
   {
    "_defaultOrder": 38,
    "_isFastLaunch": false,
    "category": "Accelerated computing",
    "gpuNum": 8,
    "hideHardwareSpecs": false,
    "memoryGiB": 768,
    "name": "ml.p3dn.24xlarge",
    "vcpuNum": 96
   },
   {
    "_defaultOrder": 39,
    "_isFastLaunch": false,
    "category": "Memory Optimized",
    "gpuNum": 0,
    "hideHardwareSpecs": false,
    "memoryGiB": 16,
    "name": "ml.r5.large",
    "vcpuNum": 2
   },
   {
    "_defaultOrder": 40,
    "_isFastLaunch": false,
    "category": "Memory Optimized",
    "gpuNum": 0,
    "hideHardwareSpecs": false,
    "memoryGiB": 32,
    "name": "ml.r5.xlarge",
    "vcpuNum": 4
   },
   {
    "_defaultOrder": 41,
    "_isFastLaunch": false,
    "category": "Memory Optimized",
    "gpuNum": 0,
    "hideHardwareSpecs": false,
    "memoryGiB": 64,
    "name": "ml.r5.2xlarge",
    "vcpuNum": 8
   },
   {
    "_defaultOrder": 42,
    "_isFastLaunch": false,
    "category": "Memory Optimized",
    "gpuNum": 0,
    "hideHardwareSpecs": false,
    "memoryGiB": 128,
    "name": "ml.r5.4xlarge",
    "vcpuNum": 16
   },
   {
    "_defaultOrder": 43,
    "_isFastLaunch": false,
    "category": "Memory Optimized",
    "gpuNum": 0,
    "hideHardwareSpecs": false,
    "memoryGiB": 256,
    "name": "ml.r5.8xlarge",
    "vcpuNum": 32
   },
   {
    "_defaultOrder": 44,
    "_isFastLaunch": false,
    "category": "Memory Optimized",
    "gpuNum": 0,
    "hideHardwareSpecs": false,
    "memoryGiB": 384,
    "name": "ml.r5.12xlarge",
    "vcpuNum": 48
   },
   {
    "_defaultOrder": 45,
    "_isFastLaunch": false,
    "category": "Memory Optimized",
    "gpuNum": 0,
    "hideHardwareSpecs": false,
    "memoryGiB": 512,
    "name": "ml.r5.16xlarge",
    "vcpuNum": 64
   },
   {
    "_defaultOrder": 46,
    "_isFastLaunch": false,
    "category": "Memory Optimized",
    "gpuNum": 0,
    "hideHardwareSpecs": false,
    "memoryGiB": 768,
    "name": "ml.r5.24xlarge",
    "vcpuNum": 96
   },
   {
    "_defaultOrder": 47,
    "_isFastLaunch": false,
    "category": "Accelerated computing",
    "gpuNum": 1,
    "hideHardwareSpecs": false,
    "memoryGiB": 16,
    "name": "ml.g5.xlarge",
    "vcpuNum": 4
   },
   {
    "_defaultOrder": 48,
    "_isFastLaunch": false,
    "category": "Accelerated computing",
    "gpuNum": 1,
    "hideHardwareSpecs": false,
    "memoryGiB": 32,
    "name": "ml.g5.2xlarge",
    "vcpuNum": 8
   },
   {
    "_defaultOrder": 49,
    "_isFastLaunch": false,
    "category": "Accelerated computing",
    "gpuNum": 1,
    "hideHardwareSpecs": false,
    "memoryGiB": 64,
    "name": "ml.g5.4xlarge",
    "vcpuNum": 16
   },
   {
    "_defaultOrder": 50,
    "_isFastLaunch": false,
    "category": "Accelerated computing",
    "gpuNum": 1,
    "hideHardwareSpecs": false,
    "memoryGiB": 128,
    "name": "ml.g5.8xlarge",
    "vcpuNum": 32
   },
   {
    "_defaultOrder": 51,
    "_isFastLaunch": false,
    "category": "Accelerated computing",
    "gpuNum": 1,
    "hideHardwareSpecs": false,
    "memoryGiB": 256,
    "name": "ml.g5.16xlarge",
    "vcpuNum": 64
   },
   {
    "_defaultOrder": 52,
    "_isFastLaunch": false,
    "category": "Accelerated computing",
    "gpuNum": 4,
    "hideHardwareSpecs": false,
    "memoryGiB": 192,
    "name": "ml.g5.12xlarge",
    "vcpuNum": 48
   },
   {
    "_defaultOrder": 53,
    "_isFastLaunch": false,
    "category": "Accelerated computing",
    "gpuNum": 4,
    "hideHardwareSpecs": false,
    "memoryGiB": 384,
    "name": "ml.g5.24xlarge",
    "vcpuNum": 96
   },
   {
    "_defaultOrder": 54,
    "_isFastLaunch": false,
    "category": "Accelerated computing",
    "gpuNum": 8,
    "hideHardwareSpecs": false,
    "memoryGiB": 768,
    "name": "ml.g5.48xlarge",
    "vcpuNum": 192
   },
   {
    "_defaultOrder": 55,
    "_isFastLaunch": false,
    "category": "Accelerated computing",
    "gpuNum": 8,
    "hideHardwareSpecs": false,
    "memoryGiB": 1152,
    "name": "ml.p4d.24xlarge",
    "vcpuNum": 96
   },
   {
    "_defaultOrder": 56,
    "_isFastLaunch": false,
    "category": "Accelerated computing",
    "gpuNum": 8,
    "hideHardwareSpecs": false,
    "memoryGiB": 1152,
    "name": "ml.p4de.24xlarge",
    "vcpuNum": 96
   },
   {
    "_defaultOrder": 57,
    "_isFastLaunch": false,
    "category": "Accelerated computing",
    "gpuNum": 0,
    "hideHardwareSpecs": false,
    "memoryGiB": 32,
    "name": "ml.trn1.2xlarge",
    "vcpuNum": 8
   },
   {
    "_defaultOrder": 58,
    "_isFastLaunch": false,
    "category": "Accelerated computing",
    "gpuNum": 0,
    "hideHardwareSpecs": false,
    "memoryGiB": 512,
    "name": "ml.trn1.32xlarge",
    "vcpuNum": 128
   },
   {
    "_defaultOrder": 59,
    "_isFastLaunch": false,
    "category": "Accelerated computing",
    "gpuNum": 0,
    "hideHardwareSpecs": false,
    "memoryGiB": 512,
    "name": "ml.trn1n.32xlarge",
    "vcpuNum": 128
   }
  ],
  "instance_type": "ml.t3.medium",
  "kernelspec": {
   "display_name": "langchain_testing",
   "language": "python",
   "name": "python3"
  },
  "language_info": {
   "codemirror_mode": {
    "name": "ipython",
    "version": 3
   },
   "file_extension": ".py",
   "mimetype": "text/x-python",
   "name": "python",
   "nbconvert_exporter": "python",
   "pygments_lexer": "ipython3",
   "version": "3.11.4"
  }
 },
 "nbformat": 4,
 "nbformat_minor": 5
}
