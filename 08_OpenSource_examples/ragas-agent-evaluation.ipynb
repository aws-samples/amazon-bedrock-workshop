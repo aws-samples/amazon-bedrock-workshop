{
 "cells": [
  {
   "cell_type": "markdown",
   "id": "51194982-9bd9-4b79-85a3-16cbdf36d63b",
   "metadata": {},
   "source": [
    "# Agent Evaluation\n",
    "\n",
    "In this section, we will explore the evaluation of agentic systems. Agentic systems are complex constructs consisting of multiple sub-components. In Lab 3, we examined a simple singleton agent orchestrating between two tools. Lab 4 demonstrated a more sophisticated multi-layer agentic system with a top-level router agent coordinating multiple agentic sub-systems.\n",
    "\n",
    "One direct implication of the interdependent and potentially nested nature of agentic systems is that evaluation can occur at both macro and micro levels. This means that either the entire system as a whole is being evaluated (macro view) or each individual sub-component is assessed (micro view). For nested systems, this applies to every level of abstraction.\n",
    "\n",
    "Typically, evaluation begins at the macro level. In many cases, positive evaluation results at the macro level indicate sufficient agent performance. If macro-level performance evaluation proves insufficient or yields poor results, micro-level evaluation can help decompose the performance metrics and attribute results to specific sub-components.\n",
    "\n",
    "In this lab, we will first explore macro-level agent performance evaluation. Then, we will evaluate tool usage as a lower-level task. To maintain focus on the evaluation process, we will keep the agentic system simple by utilizing the singleton agent composed in Lab 3."
   ]
  },
  {
   "attachments": {},
   "cell_type": "markdown",
   "id": "64169599-95e0-4b76-a81e-c68d479eb79a",
   "metadata": {},
   "source": [
    "## Agent Setup\n",
    "\n",
    "As covered in the previous section, we will reuse the Agent we built in Lab 3. This agent has access to tools designed to help find vacation destinations. You'll be able to interact with the agent by asking questions, observe it utilizing various tools, and engage in meaningful conversations.\n",
    "\n",
    "Let's begin by installing the required packages."
   ]
  },
  {
   "cell_type": "markdown",
   "id": "a910fdd3-006b-42b1-88f3-9fee1bc80707",
   "metadata": {},
   "source": [
    "### Util functions part 1 - importing singleton agent\n",
    "\n",
    "To maintain a clean and focused approach in this notebook, we have moved the agent creation logic to a module in `utils.py`. The `create_agent` function replicates the agent creation process of the simple ReAct agent we developed in Lab 3."
   ]
  },
  {
   "cell_type": "code",
   "id": "783694df-e31d-448a-af7b-0c3fc6747c27",
   "metadata": {
    "ExecuteTime": {
     "end_time": "2025-02-14T16:49:43.995354Z",
     "start_time": "2025-02-14T16:49:43.630869Z"
    }
   },
   "source": [
    "from IPython.core.display import HTML\n",
    "from utils import create_agent\n",
    "from IPython.display import display_markdown, Markdown\n",
    "\n",
    "HTML(\"<script>Jupyter.notebook.kernel.restart()</script>\")\n",
    "agent_executor = create_agent()"
   ],
   "outputs": [],
   "execution_count": 3
  },
  {
   "cell_type": "markdown",
   "id": "e3776a1d-7566-4652-acd2-7eed21f83d59",
   "metadata": {},
   "source": [
    "The ```create_agent``` function returns a ```CompiledStateGraph``` object that represents the Agent from Lab 3's scenario. \n",
    "Now, let's proceed to visualize this graph."
   ]
  },
  {
   "cell_type": "code",
   "id": "f21d0ae3-13ca-4bdc-bcc8-087eece6b610",
   "metadata": {
    "ExecuteTime": {
     "end_time": "2025-02-14T16:49:47.550288Z",
     "start_time": "2025-02-14T16:49:47.236186Z"
    }
   },
   "source": [
    "from IPython.display import Image, display\n",
    "\n",
    "display(Image(agent_executor.get_graph().draw_mermaid_png()))"
   ],
   "outputs": [
    {
     "data": {
      "image/png": "[encoded data removed]",
      "text/plain": [
       "<IPython.core.display.Image object>"
      ]
     },
     "metadata": {},
     "output_type": "display_data"
    }
   ],
   "execution_count": 4
  },
  {
   "cell_type": "markdown",
   "id": "dd2275d7-cdc2-439d-a78e-5b0c08b49a12",
   "metadata": {},
   "source": [
    "Now, we are ready to proceed with evaluating our agent!"
   ]
  },
  {
   "cell_type": "markdown",
   "id": "9aa84e32-ac33-411d-a075-a32258ed3926",
   "metadata": {},
   "source": [
    "## Agent Evaluation with ragas library \n",
    "\n",
    "In this section, we will explore sophisticated methods for evaluating agentic systems using the ragas library. Building upon our previous work with the vacation destination agent from Lab 3, we'll implement both high-level (macro) and low-level (micro) evaluation approaches.\n",
    "\n",
    "ragas provides specialized tools for evaluating Large Language Model (LLM) applications, with particular emphasis on agentic systems. We'll focus on two key evaluation dimensions:\n",
    "\n",
    "1. [High-Level Agent Accuracy](https://docs.ragas.io/en/latest/concepts/metrics/available_metrics/agents/#agent-goal-accuracy):\n",
    "   - Agent Goal Accuracy (with reference): Measures how well the agent achieves specified goals by comparing outcomes against annotated reference responses\n",
    "   - Agent Goal Accuracy (without reference): Evaluates goal achievement by inferring desired outcomes from user interactions\n",
    "\n",
    "2. [Low-Level Tool Usage](https://docs.ragas.io/en/latest/concepts/metrics/available_metrics/agents/#tool-call-accuracy):\n",
    "   - Tool Call Accuracy: Assesses the agent's ability to identify and utilize appropriate tools by comparing actual tool calls against reference tool calls\n",
    "   - The metric ranges from 0 to 1, with higher values indicating better performance\n",
    "\n",
    "This structured evaluation approach allows us to comprehensively assess our vacation destination agent's performance, both at the system level and the component level. By maintaining our focus on the singleton agent from Lab 3, we can clearly demonstrate these evaluation techniques without the added complexity of nested agent systems.\n",
    "\n",
    "Let's proceed with implementing these evaluation methods to analyze our agent's effectiveness in handling vacation-related queries and tool interactions."
   ]
  },
  {
   "cell_type": "markdown",
   "id": "daf00b75-1051-47ec-80d1-f3d65ee8fdc6",
   "metadata": {},
   "source": [
    "### Util functions part 2 - Message Format Conversion\n",
    "\n",
    "Our singleton agent is built using the LangChain/LangGraph framework. LangChain defines several [message objects](https://python.langchain.com/v0.1/docs/modules/model_io/chat/message_types/) to handle different types of communication within an agentic system. According to the LangChain documentation, these include:\n",
    "\n",
    "- HumanMessage: This represents a message from the user. Generally consists only of content.\n",
    "- AIMessage: This represents a message from the model. This may have additional_kwargs in it - for example tool_calls if using Amazon Bedrock tool calling.\n",
    "- ToolMessage: This represents the result of a tool call. In addition to role and content, this message has a `tool_call_id` parameter which conveys the id of the call to the tool that was called to produce this result.\n",
    "\n",
    "Similarly, the ragas library implements its own message wrapper objects:\n",
    "\n",
    "- [HumanMessage](https://docs.ragas.io/en/latest/references/evaluation_schema/?h=aimessage#ragas.messages.HumanMessage): Represents a message from a human user.\n",
    "- [AIMessage](https://docs.ragas.io/en/latest/references/evaluation_schema/?h=aimessage#ragas.messages.AIMessage): Represents a message from an AI.\n",
    "- [ToolMessage](https://docs.ragas.io/en/latest/references/evaluation_schema/?h=aimessage#ragas.messages.ToolMessage): Represents a message from a tool.\n",
    "- [ToolCall](https://docs.ragas.io/en/latest/references/evaluation_schema/?h=aimessage#ragas.messages.ToolCall):  Represents a tool invocation with name and arguments (typically contained within an `AIMessage` when tool calling is used)\n",
    "\n",
    "To evaluate the conversation flow generated by the LangGraph agent, we need to convert between these two message type systems. For convenience, we've implemented the `convert_message_langchian_to_ragas` function in the `utils.py` module. This function handles the conversion process seamlessly. You can import it along with the message wrapper objects, which are assigned appropriate aliases to ensure cross-compatibility between the frameworks."
   ]
  },
  {
   "cell_type": "code",
   "id": "606a9191-9677-4174-8d15-d20efaaeea1c",
   "metadata": {
    "ExecuteTime": {
     "end_time": "2025-02-14T16:49:51.179061Z",
     "start_time": "2025-02-14T16:49:51.176916Z"
    }
   },
   "source": "from utils import convert_message_langchain_to_ragas",
   "outputs": [],
   "execution_count": 5
  },
  {
   "cell_type": "markdown",
   "id": "16c467d0-c358-4baa-ab70-a00cf6e01e8f",
   "metadata": {},
   "source": [
    "Since we typically evaluate multi-turn conversations, we will implement a helper function capable of handling arrays of messages. This function will enable us to process and analyze multiple conversational exchanges seamlessly."
   ]
  },
  {
   "cell_type": "code",
   "id": "304cd23e-1298-466b-8f8a-71776c40b414",
   "metadata": {
    "ExecuteTime": {
     "end_time": "2025-02-14T16:49:52.813770Z",
     "start_time": "2025-02-14T16:49:52.811438Z"
    }
   },
   "source": [
    "def convert_messages(response):\n",
    "    return list(map((lambda m: convert_message_langchain_to_ragas(m)), response['messages']))"
   ],
   "outputs": [],
   "execution_count": 6
  },
  {
   "cell_type": "markdown",
   "id": "39e97c81-3dbb-40fc-900d-d1fd1cd5fa7f",
   "metadata": {},
   "source": [
    "For the evaluation, we will examine two distinct scenarios that represent different user profiles:\n",
    "\n",
    "1. **Andrew Macdonald - The User with Travel History**\n",
    "   * A 62-year-old resident of Paris\n",
    "   * Exists in our travel history database and is logged in with user_id 918\n",
    "   * Previous travel records enable precise, personalized recommendations\n",
    "   * Expected to have a smooth, seamless conversation flow\n",
    "\n",
    "2. **Jane Doe - The First-Time User**\n",
    "   * No prior interaction with our travel recommendation system\n",
    "   * Requires the agent to rely on creative recommendation strategies\n",
    "   * Will test the system's ability to gather information and provide relevant suggestions\n",
    "   * May experience a slightly more exploratory conversation flow\n",
    "\n",
    "These scenarios will help us evaluate our travel agent's performance across different user types and interaction patterns. Let's proceed with executing these conversation flows to assess our system's effectiveness."
   ]
  },
  {
   "cell_type": "code",
   "id": "d41e1309-3fa4-4a1c-8f9f-3e05c05cd385",
   "metadata": {
    "ExecuteTime": {
     "end_time": "2025-02-14T16:50:03.411945Z",
     "start_time": "2025-02-14T16:49:56.962578Z"
    }
   },
   "source": [
    "from langchain_core.messages import HumanMessage\n",
    "\n",
    "config = {\"configurable\": {\"user_id\": 918}}\n",
    "response_andrew = agent_executor.invoke(\n",
    "        {\"messages\": [HumanMessage(content=\"Suggest me a good vacation destination.\")]},\n",
    "        config,\n",
    "    )\n",
    "display_markdown(Markdown(response_andrew['messages'][-1].content))"
   ],
   "outputs": [
    {
     "data": {
      "text/markdown": "Based on the information from the travel guide, Ljubljana seems like an excellent choice for your vacation. It offers a unique blend of history, culture, and natural beauty that would make for a memorable and relaxing trip. The city's well-preserved architecture, lively riverside cafes, and proximity to the stunning Julian Alps provide plenty of opportunities for sightseeing, outdoor activities, and immersing yourself in the local culture. Let me know if you would like me to provide any additional details about Ljubljana or if you would like me to suggest another destination."
     },
     "metadata": {},
     "output_type": "display_data"
    }
   ],
   "execution_count": 7
  },
  {
   "cell_type": "code",
   "id": "f17dad47-102f-45d0-9145-fbe16de2bfc8",
   "metadata": {
    "ExecuteTime": {
     "end_time": "2025-02-14T16:50:09.283102Z",
     "start_time": "2025-02-14T16:50:03.436768Z"
    }
   },
   "source": [
    "from langchain_core.messages import HumanMessage\n",
    "\n",
    "config = {\"configurable\": {}}\n",
    "response_jane = agent_executor.invoke(\n",
    "        {\"messages\": [HumanMessage(content=\"Suggest me a good vacation destination. I love beaches!\")]},\n",
    "        config,\n",
    "    )\n",
    "display_markdown(Markdown(response_jane['messages'][-1].content))"
   ],
   "outputs": [
    {
     "data": {
      "text/markdown": "Based on the information from the travel guide, here are some great beach destination recommendations for you:\n\n- Miami, Florida - Known for its vibrant South Beach, Art Deco architecture, and lively Latin-influenced culture.\n- Key West, Florida - A tropical island city with a unique Caribbean flair, historic sites, and stunning beaches.\n- Honolulu, Hawaii - Offers the iconic Waikiki Beach, as well as natural wonders like Manoa Falls and Diamond Head.\n\nThese destinations all have beautiful beaches and plenty of activities to enjoy. Let me know if you need any other details or have a preference on which one you'd like to learn more about!"
     },
     "metadata": {},
     "output_type": "display_data"
    }
   ],
   "execution_count": 8
  },
  {
   "cell_type": "markdown",
   "id": "5b086dc3-5203-4531-beb5-5566a2b13815",
   "metadata": {},
   "source": [
    "Now that we have collected the agent conversations from Andrew and Jane we can proceed with converting them from LangChain's message format into ragas message format. For this conversion, we will utilize the previously defined `convert_messages` function."
   ]
  },
  {
   "cell_type": "code",
   "id": "68447b7a-85e9-461f-a0db-742050547734",
   "metadata": {
    "ExecuteTime": {
     "end_time": "2025-02-14T16:50:16.104819Z",
     "start_time": "2025-02-14T16:50:16.097224Z"
    }
   },
   "source": [
    "rg_messages_andrew = convert_messages(response_andrew)\n",
    "display_markdown(Markdown(rg_messages_andrew[-1].content))"
   ],
   "outputs": [
    {
     "data": {
      "text/markdown": "Based on the information from the travel guide, Ljubljana seems like an excellent choice for your vacation. It offers a unique blend of history, culture, and natural beauty that would make for a memorable and relaxing trip. The city's well-preserved architecture, lively riverside cafes, and proximity to the stunning Julian Alps provide plenty of opportunities for sightseeing, outdoor activities, and immersing yourself in the local culture. Let me know if you would like me to provide any additional details about Ljubljana or if you would like me to suggest another destination."
     },
     "metadata": {},
     "output_type": "display_data"
    }
   ],
   "execution_count": 9
  },
  {
   "cell_type": "code",
   "id": "cb642fba-8d53-4ff2-b1b6-e7f421733adb",
   "metadata": {
    "ExecuteTime": {
     "end_time": "2025-02-14T16:50:18.759815Z",
     "start_time": "2025-02-14T16:50:18.755683Z"
    }
   },
   "source": [
    "rg_messages_jane = convert_messages(response_jane)\n",
    "display_markdown(Markdown(rg_messages_jane[-1].content))"
   ],
   "outputs": [
    {
     "data": {
      "text/markdown": "Based on the information from the travel guide, here are some great beach destination recommendations for you:\n\n- Miami, Florida - Known for its vibrant South Beach, Art Deco architecture, and lively Latin-influenced culture.\n- Key West, Florida - A tropical island city with a unique Caribbean flair, historic sites, and stunning beaches.\n- Honolulu, Hawaii - Offers the iconic Waikiki Beach, as well as natural wonders like Manoa Falls and Diamond Head.\n\nThese destinations all have beautiful beaches and plenty of activities to enjoy. Let me know if you need any other details or have a preference on which one you'd like to learn more about!"
     },
     "metadata": {},
     "output_type": "display_data"
    }
   ],
   "execution_count": 10
  },
  {
   "cell_type": "markdown",
   "id": "f1ae3c79-521f-4962-9e4e-9a87e44a51f3",
   "metadata": {},
   "source": [
    "With our conversation flows now properly formatted, we can proceed with the actual evaluation phase."
   ]
  },
  {
   "cell_type": "markdown",
   "id": "cf995770-f6f7-4f86-909f-b60328ddfeaf",
   "metadata": {},
   "source": [
    "### Agent Goal Accuracy\n",
    "\n",
    "Agent Goal Accuracy is a metric designed to evaluate how well an LLM identifies and achieves user goals. It's a binary metric where 1 indicates successful goal achievement and 0 indicates failure. The evaluation is performed using an evaluator LLM, which needs to be defined and configured before metric calculation.\n",
    "\n",
    "The Agent Goal Accuracy metric comes in two distinct variants:\n",
    "\n",
    "- Agent Goal Accuracy without reference\n",
    "- Agent Goal Accuracy with reference\n",
    "\n",
    "Before exploring these variants in detail, we need to establish our evaluator LLM. For this purpose, we will utilize Amazon Nova Pro as our judge. While this is our choice in this lab, the selection of the evaluator LLM always needs to be adjusted based on specific use cases and requirements."
   ]
  },
  {
   "cell_type": "code",
   "id": "3f6786f5-4c5f-4ca4-a5da-30a275fbbd5c",
   "metadata": {
    "ExecuteTime": {
     "end_time": "2025-02-14T16:50:21.705568Z",
     "start_time": "2025-02-14T16:50:21.695321Z"
    }
   },
   "source": [
    "import boto3\n",
    "from ragas.llms import LangchainLLMWrapper\n",
    "from langchain_aws import ChatBedrockConverse\n",
    "\n",
    "bedrock_client = boto3.client(\"bedrock-runtime\", region_name=\"us-west-2\")\n",
    "\n",
    "judge_llm = LangchainLLMWrapper(ChatBedrockConverse(\n",
    "    model=\"us.amazon.nova-pro-v1:0\",\n",
    "    temperature=0,\n",
    "    max_tokens=None,\n",
    "    client=bedrock_client,\n",
    "))"
   ],
   "outputs": [],
   "execution_count": 11
  },
  {
   "cell_type": "markdown",
   "id": "2cff6e40-26c3-4ccb-b32b-65d2def73410",
   "metadata": {},
   "source": [
    "#### Agent Goal Accuracy Without Reference\n",
    "AgentGoalAccuracyWithoutReference operates without a predefined reference point. Instead, it evaluates the LLM's performance by inferring the desired outcome from the human interactions within the workflow. This approach is particularly useful when explicit reference outcomes are not available or when the success criteria can be determined from the conversation context.\n",
    "\n",
    "To evaluate this metric, we first encapsulate our agent conversation in a `MultiTurnSample` object, which is designed to handle multi-turn agentic conversations within the ragas ecosystem. Next, we initialize an `AgentGoalAccuracyWithoutReference` object to implement our evaluation metric. Finally, we configure the judge LLM and execute the evaluation across our three agent conversations."
   ]
  },
  {
   "cell_type": "code",
   "id": "b8a10ce3-e3bf-486d-bb6d-17e2a0638562",
   "metadata": {
    "ExecuteTime": {
     "end_time": "2025-02-14T16:50:22.991978Z",
     "start_time": "2025-02-14T16:50:22.989043Z"
    }
   },
   "source": [
    "from ragas.dataset_schema import  MultiTurnSample\n",
    "from ragas.metrics import AgentGoalAccuracyWithoutReference\n",
    "\n",
    "\n",
    "sample_andrew = MultiTurnSample(user_input=rg_messages_andrew)\n",
    "\n",
    "sample_jane = MultiTurnSample(user_input=rg_messages_jane)\n",
    "\n",
    "scorer = AgentGoalAccuracyWithoutReference(llm=judge_llm)"
   ],
   "outputs": [],
   "execution_count": 12
  },
  {
   "cell_type": "code",
   "id": "95db55ba-e93c-4c2d-8a0d-c365b6222983",
   "metadata": {
    "ExecuteTime": {
     "end_time": "2025-02-14T16:50:26.671901Z",
     "start_time": "2025-02-14T16:50:23.617114Z"
    }
   },
   "source": [
    "await scorer.multi_turn_ascore(sample_andrew)"
   ],
   "outputs": [
    {
     "data": {
      "text/plain": [
       "1.0"
      ]
     },
     "execution_count": 13,
     "metadata": {},
     "output_type": "execute_result"
    }
   ],
   "execution_count": 13
  },
  {
   "cell_type": "code",
   "id": "26e411bc-0934-4223-bbbf-7089163b0e3d",
   "metadata": {
    "ExecuteTime": {
     "end_time": "2025-02-14T16:50:29.252659Z",
     "start_time": "2025-02-14T16:50:26.756647Z"
    }
   },
   "source": [
    "await scorer.multi_turn_ascore(sample_jane)"
   ],
   "outputs": [
    {
     "data": {
      "text/plain": [
       "1.0"
      ]
     },
     "execution_count": 14,
     "metadata": {},
     "output_type": "execute_result"
    }
   ],
   "execution_count": 14
  },
  {
   "cell_type": "markdown",
   "id": "e05a484c-f0ef-49a6-a43c-f0c387322867",
   "metadata": {},
   "source": [
    "#### Agent Goal Accuracy With Reference\n",
    "AgentGoalAccuracyWithReference requires two key inputs: the user_input and a reference outcome. This variant evaluates the LLM's performance by comparing its achieved outcome against an annotated reference that serves as the ideal outcome. The metric is calculated at the end of the workflow by assessing how closely the LLM's result matches the predefined reference outcome.\n",
    "\n",
    "To evaluate this metric, we will follow a similar approach. First, we encapsulate our agent conversation within a `MultiTurnSample` object, which is specifically designed to manage multi-turn agent conversations in the ragas library. For this evaluation, we need to provide an annotated reference that will serve as a benchmark for the judge's assessment. We then initialize an `AgentGoalAccuracyWithReference` object to implement our evaluation metric. Thereby, we set up the judge LLM as evaluator llm. Then we conduct the evaluation across all three agent conversations to measure their performance against our defined criteria."
   ]
  },
  {
   "cell_type": "code",
   "id": "f09bf878-43d0-4aea-9e27-4ec16af602e2",
   "metadata": {
    "ExecuteTime": {
     "end_time": "2025-02-14T16:50:56.688501Z",
     "start_time": "2025-02-14T16:50:56.683838Z"
    }
   },
   "source": [
    "from ragas.dataset_schema import  MultiTurnSample\n",
    "from ragas.metrics import AgentGoalAccuracyWithReference\n",
    "\n",
    "\n",
    "sample_andrew = MultiTurnSample(user_input=rg_messages_andrew,\n",
    "    reference=\"Provide detailed information about suggested holiday destination.\")\n",
    "\n",
    "sample_jane = MultiTurnSample(user_input=rg_messages_jane,\n",
    "    reference=\"Provide detailed information about suggested holiday destination.\")\n",
    "\n",
    "scorer = AgentGoalAccuracyWithReference(llm=judge_llm)"
   ],
   "outputs": [],
   "execution_count": 15
  },
  {
   "cell_type": "code",
   "id": "eebac6f9-3443-473a-af4c-3e33588258a5",
   "metadata": {
    "ExecuteTime": {
     "end_time": "2025-02-14T16:50:59.579580Z",
     "start_time": "2025-02-14T16:50:57.180684Z"
    }
   },
   "source": [
    "await scorer.multi_turn_ascore(sample_andrew)"
   ],
   "outputs": [
    {
     "data": {
      "text/plain": [
       "1.0"
      ]
     },
     "execution_count": 16,
     "metadata": {},
     "output_type": "execute_result"
    }
   ],
   "execution_count": 16
  },
  {
   "cell_type": "code",
   "id": "1fde20da-8227-48d9-8dec-8de757a786bf",
   "metadata": {
    "ExecuteTime": {
     "end_time": "2025-02-14T16:51:25.324286Z",
     "start_time": "2025-02-14T16:50:59.612897Z"
    }
   },
   "source": [
    "await scorer.multi_turn_ascore(sample_jane)"
   ],
   "outputs": [
    {
     "data": {
      "text/plain": [
       "1.0"
      ]
     },
     "execution_count": 17,
     "metadata": {},
     "output_type": "execute_result"
    }
   ],
   "execution_count": 17
  },
  {
   "cell_type": "markdown",
   "id": "bc2e40f9-cdeb-4a62-86c9-38367c284a1a",
   "metadata": {},
   "source": [
    "Let's analyze the results and their relationship to each persona's interaction patterns with the agent. We encourage you to discuss these findings with your workshop group to gain deeper insights. Keep in mind that agent conversations are dynamic and non-deterministic, meaning evaluation results may vary across different runs. \n",
    "\n",
    "However, certain patterns emerge:\n",
    "- Andrew's conversations typically achieve a 1.0 rating due to their focused and goal-oriented approach\n",
    "- Jane's conversations are typically rated with 0.0. Due to the lack of historic information the system can't provide suggestions in one single conversation turn. A human in the loop approach asking for her interests could solve this.\n",
    "\n",
    "Note, that especially for `AgentGoalAccuracyWithReference` you could influence the results by adjusting either the conversation flow or the reference. If you have time left, feel free to try it out!"
   ]
  },
  {
   "cell_type": "markdown",
   "id": "b9e37b94-2166-4f4c-9bca-bc68a16d1fa0",
   "metadata": {},
   "source": [
    "### Tool Call accuracy\n",
    "\n",
    "ToolCallAccuracy is a metric that can be used to evaluate the performance of the LLM in identifying and calling the required tools to complete a given task. This metric needs user_input and reference_tool_calls to evaluate the performance of the LLM in identifying and calling the required tools to complete a given task. The metric is computed by comparing the reference_tool_calls with the Tool calls made by the AI. Therefore, in this particular scenario, there is no need for an evaluator LLM. The values range between 0 and 1, with higher values indicating better performance.\n",
    "\n",
    "To evaluate the tool call accuracy metric, we follow a different process. First, we encapsulate our agent conversation within a `MultiTurnSample` object, which is specifically designed to handle multi-turn agent conversations in the ragas library. This evaluation requires a set of annotated reference tool calls that serve as a benchmark for assessment. Next, we initialize a `ToolCallAccuracy` object to implement our evaluation metric. While the default behavior compares tool names and arguments using exact string matching, this may not always be optimal, particularly when dealing with natural language arguments. To mitigate this, ragas provides us with a choice of different NLP distance metrics we can employ to determine the relevance of retrieved contexts more effectively. In this lab we use `NonLLMStringSimilarity`, which is leveraging traditional string distance measures such as Levenshtein, Hamming, and Jaro. Therefore, we set the parameter `arg_comparison_metric` to `NonLLMStringSimilarity`."
   ]
  },
  {
   "cell_type": "code",
   "id": "f158250b-ca76-46e9-a60c-c621e1215f34",
   "metadata": {
    "ExecuteTime": {
     "end_time": "2025-02-13T19:06:17.742495Z",
     "start_time": "2025-02-13T19:06:17.719709Z"
    }
   },
   "source": [
    "from ragas.metrics import ToolCallAccuracy\n",
    "from ragas.dataset_schema import  MultiTurnSample\n",
    "from ragas.messages import ToolCall\n",
    "from ragas.metrics._string import NonLLMStringSimilarity\n",
    "\n",
    "\n",
    "sample_andrew = MultiTurnSample(\n",
    "    user_input=rg_messages_andrew,\n",
    "    reference_tool_calls=[\n",
    "        ToolCall(name=\"compare_and_recommend_destination\", args={}),\n",
    "        ToolCall(name=\"travel_guide\", args={\"query\": \"Ljubljana\"}),\n",
    "    ]\n",
    ")\n",
    "\n",
    "sample_jane = MultiTurnSample(\n",
    "    user_input=rg_messages_jane,\n",
    "    reference_tool_calls=[\n",
    "        ToolCall(name=\"compare_and_recommend_destination\", args={}),\n",
    "        ToolCall(name=\"travel_guide\", args={\"query\": \"Miami, Florida\"}),\n",
    "    ]\n",
    ")\n",
    "\n",
    "scorer = ToolCallAccuracy()\n",
    "scorer.arg_comparison_metric = NonLLMStringSimilarity()"
   ],
   "outputs": [],
   "execution_count": 19
  },
  {
   "cell_type": "code",
   "id": "df1a688a-4d99-4b24-b487-5918c62414a4",
   "metadata": {
    "ExecuteTime": {
     "end_time": "2025-02-13T19:06:18.623473Z",
     "start_time": "2025-02-13T19:06:18.618893Z"
    }
   },
   "source": [
    "await scorer.multi_turn_ascore(sample_andrew)"
   ],
   "outputs": [
    {
     "data": {
      "text/plain": [
       "1.0"
      ]
     },
     "execution_count": 20,
     "metadata": {},
     "output_type": "execute_result"
    }
   ],
   "execution_count": 20
  },
  {
   "cell_type": "code",
   "id": "834ba036-9c7e-44ce-b9c0-9e11c793a562",
   "metadata": {
    "ExecuteTime": {
     "end_time": "2025-02-13T19:06:18.995309Z",
     "start_time": "2025-02-13T19:06:18.992153Z"
    }
   },
   "source": [
    "await scorer.multi_turn_ascore(sample_jane)"
   ],
   "outputs": [
    {
     "data": {
      "text/plain": [
       "0.5833333333333333"
      ]
     },
     "execution_count": 21,
     "metadata": {},
     "output_type": "execute_result"
    }
   ],
   "execution_count": 21
  },
  {
   "cell_type": "markdown",
   "id": "28be7ce6-c419-4135-80c9-f3e974ca97c1",
   "metadata": {},
   "source": [
    "Let's analyze the results and their relationship to each persona's interaction patterns with the agent. We encourage you to discuss these findings with your workshop group to gain deeper insights. Keep in mind that agent conversations are dynamic and non-deterministic, meaning evaluation results may vary across different runs.\n",
    "\n",
    "However, certain patterns emerge:\n",
    "- Andrew's conversations typically achieve a very high rating due to his focused and goal-oriented approach and the fact that he can be found in the travel database - this helps matching all tool call arguments\n",
    "- Jane's conversations typically achieve a high but slightly lower rating. While her conversation is focused and goal-oriented, she is not in the travel database. This causes the tool call arguments to be less deterministic, reducing the likelihood of a specific city as recommendation. If you you have time, try modifying the reference `query` argument of the `travel_guide` tool call, e.g. to \"beach destination\". Try to correlate the result with the tool calls in the message history. What do you observe? "
   ]
  }
 ],
 "metadata": {
  "kernelspec": {
   "display_name": "Python 3 (ipykernel)",
   "language": "python",
   "name": "python3"
  },
  "language_info": {
   "codemirror_mode": {
    "name": "ipython",
    "version": 3
   },
   "file_extension": ".py",
   "mimetype": "text/x-python",
   "name": "python",
   "nbconvert_exporter": "python",
   "pygments_lexer": "ipython3",
   "version": "3.10.14"
  }
 },
 "nbformat": 4,
 "nbformat_minor": 5
}
