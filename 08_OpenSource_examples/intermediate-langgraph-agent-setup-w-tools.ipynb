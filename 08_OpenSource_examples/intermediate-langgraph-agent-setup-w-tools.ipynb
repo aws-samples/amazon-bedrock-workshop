{
 "cells": [
  {
   "cell_type": "markdown",
   "metadata": {},
   "source": [
    "# Lab 3: Building a Travel Planner with a Simple LangGraph\n",
    "\n",
    "## Overview\n",
    "\n",
    "This lab guides you through the process of creating a simple Travel Planner using LangGraph, a library for building stateful, multi-step applications with language models. The Travel Planner demonstrates how to structure a conversational AI application that collects user input and generates personalized travel itineraries.\n",
    "\n",
    "## Intro to Agents\n",
    "- Agents are leverage LLM to `think step by step` and then plan the execution\n",
    "- Agents have access to tools\n",
    "- Agents have access to memory. Below diagram illustrates this concept\n",
    "\n",
    "#### Memory Management\n",
    "Memory is key for any agentic conversation which is `Multi-Turn` or `Multi-Agent` colloboration conversation and more so if it spans multiple days. The 3 main aspects of Agents are:\n",
    "1. Tools\n",
    "2. Memory\n",
    "3. Planners\n",
    "\n",
    "- ![Agent memory](./assets/agents_memory_light.png)\n",
    "\n",
    "## Use Case Details\n",
    "\n",
    "Our Travel Planner follows a straightforward, three-step process:\n",
    "\n",
    "1. **Initial User Input**: \n",
    "   - The application prompts the user to enter their desired travel plan to get assistance from AI Agent.\n",
    "   - This information is stored in the state.\n",
    "\n",
    "2. **Interests Input**:\n",
    "   - The user is asked to provide their interests for the trip.\n",
    "   - These interests are stored as a list in the state.\n",
    "\n",
    "3. **Itinerary Creation**:\n",
    "   - Using the collected city and interests, the application leverages a language model to generate a personalized day trip itinerary.\n",
    "   - The generated itinerary is presented to the user.\n",
    "\n",
    "The flow between these steps is managed by LangGraph, which handles the state transitions and ensures that each step is executed in the correct order.\n",
    "\n",
    "The below diagram illustrates this:\n",
    "\n",
    "![Travel Planner Agent](./assets/agents_itinerary.png)"
   ]
  },
  {
   "cell_type": "markdown",
   "metadata": {},
   "source": [
    "### Setup and Imports\n",
    "\n",
    "First, let's import the necessary modules and set up our environment."
   ]
  },
  {
   "cell_type": "code",
   "metadata": {
    "tags": [],
    "ExecuteTime": {
     "end_time": "2025-02-13T20:23:52.691147Z",
     "start_time": "2025-02-13T20:23:52.660897Z"
    }
   },
   "source": [
    "from typing import TypedDict, Annotated, List\n",
    "from langgraph.graph import StateGraph, END\n",
    "from langchain_core.messages import HumanMessage, AIMessage\n",
    "from langchain_core.runnables.graph import MermaidDrawMethod\n",
    "from IPython.display import display, Image\n"
   ],
   "outputs": [],
   "execution_count": 5
  },
  {
   "cell_type": "markdown",
   "metadata": {},
   "source": [
    "## LangGraph -- State Graph, Nodes and Edges\n",
    "\n",
    "First, we are initializing the ```StateGraph```. This object will encapsulate the graph being traversed during excecution.\n",
    "\n",
    "Then we define the **nodes** in our graph. In LangGraph, nodes are typically python functions. There are two main nodes we will use for our graph:\n",
    "- The agent node: responsible for deciding what (if any) actions to take.\n",
    "- The tool node: This node will orchestrate calling the respective tool and returning the output. This means if the agent decides to take an action, this node will then execute that action.\n",
    "\n",
    "**Edges** define how the logic is routed and how the graph decides to stop. This is a big part of how your agents work and how different nodes communicate with each other. There are a few key types of edges:\n",
    "\n",
    "- Normal Edges: Go directly from one node to the next.\n",
    "- Conditional Edges: Call a function to determine which node(s) to go to next.\n",
    "- Entry Point: Which node to call first when user input arrives.\n",
    "- Conditional Entry Point: Call a function to determine which node(s) to call first when user input arrives.\n",
    "\n",
    "In our case we need to define a conditional edge that routes to the ```ToolNode``` when a tool get called in the agent node, i.e. when the LLM determines the requirement of tool use. With ```tools_condition```, LangGraph provides a preimplemented function handling this. Further, an edge from the ```START```node to the ```assistant```and from the ```ToolNode``` back to the ```assistant``` are required.\n",
    "\n",
    "We are adding the nodes, edges as well as a persistant memory to the ```StateGraph``` before we compile it. \n",
    "\n",
    "### Define Agent State\n",
    "\n",
    "We'll define the state that our agent will maintain throughout its operation. First, define the [State](https://langchain-ai.github.io/langgraph/concepts/low_level/#state) of the graph.  The State schema serves as the input schema for all Nodes and Edges in the graph.\n",
    "\n",
    "Let's use the `TypedDict` class from python's `typing` module as our schema, which provides type hints for the keys.\n",
    "\n",
    "### Key Components\n",
    "\n",
    "1. **StateGraph**: The core of our application, defining the flow of our Travel Planner.\n",
    "2. **PlannerState**: A custom type representing the state of our planning process.\n",
    "3. **Node Functions**: Individual steps in our planning process (input_city, input_interests, create_itinerary).\n",
    "4. **LLM Integration**: Utilizing a language model to generate the final itinerary.\n",
    "5. **Memory Integration**: Utilizing long term and short term memory for conversations\n",
    "\n",
    "#### Advanced concepts\n",
    "\n",
    "Now we'll define the main functions nodes that our agent will use: get interests, create itinerary. \n",
    "\n",
    "- [Nodes](https://langchain-ai.github.io/langgraph/concepts/low_level/#nodes) are python functions.\n",
    "- The first positional argument is the state, as defined above. \n",
    "- State is a `TypedDict` with schema as defined above, each node can access the key, `graph_state`, with `state['graph_state']`. \n",
    "- Each node returns a new value of the state key `graph_state`.\n",
    "  \n",
    "By default, the new value returned by each node [will override](https://langchain-ai.github.io/langgraph/concepts/low_level/#reducers) the prior state value.\n",
    "\n",
    "### Memory\n",
    "\n",
    "1. We will disscuss memory is detail in subsequent sections below how some some key points\n",
    "2. We have `Conversational Memory` which is needed for all agents to have context since this is a `ChatBot` which needs history of conversations\n",
    "3. We usually summarize these into a **Summary Conversation** alternating with Human | AI for multi session conversations\n",
    "4. We have the concept of Graph State which is for Async workflows where we need to resume the workflow from a **certain point** in history\n",
    "\n",
    "For `A-Sync` workflows where we need to persist the state of the graph and bring it back once we get the required data. below diagram explains this concept. \n",
    "\n",
    "![Graph state](./assets/graph_state_light.png)\n"
   ]
  },
  {
   "cell_type": "markdown",
   "metadata": {},
   "source": [
    "### Define Agent Nodes\n",
    "\n",
    "we will create a simple graph with \n",
    "- user travel plans\n",
    "- invoke with Bedrock\n",
    "- generate the travel plan for the day \n",
    "- ability to add or modify the plan"
   ]
  },
  {
   "cell_type": "code",
   "metadata": {
    "tags": [],
    "ExecuteTime": {
     "end_time": "2025-02-13T20:23:54.181480Z",
     "start_time": "2025-02-13T20:23:54.179440Z"
    }
   },
   "source": [
    "class PlannerState(TypedDict):\n",
    "    messages: Annotated[List[HumanMessage | AIMessage], \"The messages in the conversation\"]\n",
    "    itinerary: str\n",
    "    city: str\n",
    "    user_message: str"
   ],
   "outputs": [],
   "execution_count": 6
  },
  {
   "cell_type": "markdown",
   "metadata": {},
   "source": [
    "### Set Up Language Model and Prompts\n"
   ]
  },
  {
   "cell_type": "code",
   "metadata": {
    "tags": [],
    "ExecuteTime": {
     "end_time": "2025-02-13T20:23:55.200748Z",
     "start_time": "2025-02-13T20:23:55.195691Z"
    }
   },
   "source": [
    "\n",
    "from langchain_aws import ChatBedrockConverse\n",
    "import boto3\n",
    "from langgraph.checkpoint.memory import MemorySaver\n",
    "from langchain_core.runnables.config import RunnableConfig\n",
    "from langchain_core.prompts import ChatPromptTemplate, MessagesPlaceholder\n",
    "\n",
    "model_id = \"us.amazon.nova-lite-v1:0\"\n",
    "bedrock_client = boto3.client(\"bedrock-runtime\", region_name=\"us-east-1\")\n",
    "\n",
    "provider_id = \"amazon\"\n",
    "\n",
    "llm = ChatBedrockConverse(\n",
    "    model=model_id,\n",
    "    provider=provider_id,\n",
    "    temperature=0,\n",
    "    max_tokens=None,\n",
    "    client=bedrock_client,\n",
    ")\n",
    "\n",
    "\n",
    "itinerary_prompt = ChatPromptTemplate.from_messages([\n",
    "    (\"system\", \"You are a helpful travel assistant. Create a day trip itinerary for {city} based on the user's interests. Use the below chat conversation and the latest input from Human to get the user interests. Provide a brief, bulleted itinerary.\"),\n",
    "    MessagesPlaceholder(\"chat_history\"),\n",
    "    (\"human\", \"{user_message}\"),\n",
    "])"
   ],
   "outputs": [],
   "execution_count": 7
  },
  {
   "cell_type": "markdown",
   "metadata": {},
   "source": [
    "### Define the nodes and Edges"
   ]
  },
  {
   "cell_type": "code",
   "metadata": {
    "tags": [],
    "ExecuteTime": {
     "end_time": "2025-02-13T20:23:56.358741Z",
     "start_time": "2025-02-13T20:23:56.356280Z"
    }
   },
   "source": [
    "def input_interests(state: PlannerState) -> PlannerState:\n",
    "    user_message = state['user_message']\n",
    "\n",
    "\n",
    "    if not state.get('messages', None) : state['messages'] = []\n",
    "    return {\n",
    "        **state,\n",
    "    }\n",
    "\n",
    "def create_itinerary(state: PlannerState) -> PlannerState:\n",
    "    response = llm.invoke(itinerary_prompt.format_messages(city=state['city'], user_message=state['user_message'], chat_history=state['messages']))\n",
    "    print(\"\\nFinal Itinerary:\")\n",
    "    print(response.content)\n",
    "    return {\n",
    "        **state,\n",
    "        \"messages\": state['messages'] + [HumanMessage(content=state['user_message']),AIMessage(content=response.content)],\n",
    "        \"itinerary\": response.content\n",
    "    }"
   ],
   "outputs": [],
   "execution_count": 8
  },
  {
   "cell_type": "markdown",
   "metadata": {},
   "source": [
    "### Create and Compile the Graph\n",
    "\n",
    "Now we'll create our LangGraph workflow and compile it. We build the graph from our [components](\n",
    "https://langchain-ai.github.io/langgraph/concepts/low_level/) defined above. The [StateGraph class](https://langchain-ai.github.io/langgraph/concepts/low_level/#stategraph) is the graph class that we can use.\n",
    " \n",
    "First, we initialize a StateGraph with the `State` class we defined above. Then, we add our nodes and edges. We use the [`START` Node, a special node](https://langchain-ai.github.io/langgraph/concepts/low_level/#start-node) that sends user input to the graph, to indicate where to start our graph. The [`END` Node](https://langchain-ai.github.io/langgraph/concepts/low_level/#end-node) is a special node that represents a terminal node. \n"
   ]
  },
  {
   "cell_type": "code",
   "metadata": {
    "tags": [],
    "ExecuteTime": {
     "end_time": "2025-02-13T20:23:58.449213Z",
     "start_time": "2025-02-13T20:23:58.443962Z"
    }
   },
   "source": [
    "workflow = StateGraph(PlannerState)\n",
    "\n",
    "#workflow.add_node(\"input_city\", input_city)\n",
    "workflow.add_node(\"input_interests\", input_interests)\n",
    "workflow.add_node(\"create_itinerary\", create_itinerary)\n",
    "\n",
    "workflow.set_entry_point(\"input_interests\")\n",
    "\n",
    "#workflow.add_edge(\"input_city\", \"input_interests\")\n",
    "workflow.add_edge(\"input_interests\", \"create_itinerary\")\n",
    "workflow.add_edge(\"create_itinerary\", END)\n",
    "\n",
    "# The checkpointer lets the graph persist its state\n",
    "# this is a complete memory for the entire graph.\n",
    "memory = MemorySaver()\n",
    "app = workflow.compile(checkpointer=memory)"
   ],
   "outputs": [],
   "execution_count": 9
  },
  {
   "cell_type": "markdown",
   "metadata": {},
   "source": [
    "### Display the graph structure\n",
    "\n",
    "Finally, we [compile our graph](https://langchain-ai.github.io/langgraph/concepts/low_level/#compiling-your-graph) to perform a few basic checks on the graph structure. We can visualize the graph as a [Mermaid diagram](https://github.com/mermaid-js/mermaid)."
   ]
  },
  {
   "cell_type": "code",
   "metadata": {
    "tags": [],
    "ExecuteTime": {
     "end_time": "2025-02-13T20:24:00.906601Z",
     "start_time": "2025-02-13T20:23:59.960457Z"
    }
   },
   "source": [
    "display(\n",
    "    Image(\n",
    "        app.get_graph().draw_mermaid_png(\n",
    "            draw_method=MermaidDrawMethod.API,\n",
    "        )\n",
    "    )\n",
    ")"
   ],
   "outputs": [
    {
     "data": {
      "image/png": "[encoded data removed]",
      "text/plain": [
       "<IPython.core.display.Image object>"
      ]
     },
     "metadata": {},
     "output_type": "display_data"
    }
   ],
   "execution_count": 10
  },
  {
   "cell_type": "markdown",
   "metadata": {},
   "source": [
    "### Define the function that runs the graph\n",
    "\n",
    "When we compile the graph, we turn it into a LangChain Runnable, which automatically enables calling `.invoke()`, `.stream()` and `.batch()` with your inputs. In the following example, we run `stream()` to invoke the graph with inputs"
   ]
  },
  {
   "cell_type": "code",
   "metadata": {
    "tags": [],
    "ExecuteTime": {
     "end_time": "2025-02-13T20:24:02.221502Z",
     "start_time": "2025-02-13T20:24:02.219758Z"
    }
   },
   "source": [
    "def run_travel_planner(user_request: str, config_dict: dict):\n",
    "    print(f\"Current User Request: {user_request}\\n\")\n",
    "    init_input = {\"user_message\": user_request,\"city\" : \"Seattle\"}\n",
    "\n",
    "    for output in app.stream(init_input, config=config_dict, stream_mode=\"values\"):\n",
    "        pass  # The nodes themselves now handle all printing"
   ],
   "outputs": [],
   "execution_count": 11
  },
  {
   "cell_type": "markdown",
   "metadata": {},
   "source": [
    "### Travel Planner Example\n",
    "\n",
    "- To run this the system prompts and asks for user input for activities \n",
    "- We have initialized the graph state with city Seattle which usually will be dynamic and we will see in subsequrnt labs\n",
    "- You can enter like boating, swiming"
   ]
  },
  {
   "cell_type": "code",
   "metadata": {
    "tags": [],
    "ExecuteTime": {
     "end_time": "2025-02-13T20:24:46.977369Z",
     "start_time": "2025-02-13T20:24:42.730997Z"
    }
   },
   "source": [
    "config = {\"configurable\": {\"thread_id\": \"1\"}}\n",
    "from IPython.display import display_markdown, Markdown\n",
    "user_request = \"Can you create a itinerary for boating, swim. Need a complete plan\"\n",
    "display_markdown(Markdown(run_travel_planner(user_request, config)))"
   ],
   "outputs": [
    {
     "name": "stdout",
     "output_type": "stream",
     "text": [
      "Current User Request: Can you create a itinerary for boating, swim. Need a complete plan\n",
      "\n",
      "\n",
      "Final Itinerary:\n",
      "Certainly! Here's a detailed itinerary for a day of boating and swimming in Seattle:\n",
      "\n",
      "### Seattle Boating and Swimming Day Trip Itinerary\n",
      "\n",
      "**8:00 AM - 9:00 AM: Breakfast at The Market by Jean-Georges**\n",
      "- Start your day with a delicious breakfast at this renowned restaurant.\n",
      "\n",
      "**9:30 AM - 10:30 AM: Rent a Boat at Leschi Boat Launch**\n",
      "- Head to Leschi Boat Launch to rent a boat. Choose from a variety of options to suit your needs.\n",
      "\n",
      "**10:30 AM - 12:00 PM: Boating on Lake Washington**\n",
      "- Take a leisurely boat ride on Lake Washington. Enjoy the beautiful scenery and the fresh air.\n",
      "\n",
      "**12:00 PM - 1:00 PM: Lunch at Leschi Tavern**\n",
      "- Dock at Leschi and enjoy a delicious lunch at Leschi Tavern. Try their famous fish tacos or other local favorites.\n",
      "\n",
      "**1:00 PM - 2:30 PM: Swimming at Sand Point Nature Park**\n",
      "- Head to Sand Point Nature Park. Unload your boat and take a refreshing swim in the lake. The water is usually calm and perfect for a swim.\n",
      "\n",
      "**2:30 PM - 4:00 PM: Explore Sand Point Nature Park**\n",
      "- Spend some time exploring the trails and enjoying the natural beauty of the park. There are plenty of spots to relax and take in the views.\n",
      "\n",
      "**4:00 PM - 5:30 PM: Visit the Center for Wooden Boats**\n",
      "- Drive to the Center for Wooden Boats in Ballard. Explore the museum and learn about the rich maritime history of the region. Don’t miss the opportunity to see the beautiful wooden boats up close.\n",
      "\n",
      "**5:30 PM - 6:30 PM: Coffee Break at Ballard Brewing Company**\n",
      "- Take a short drive to Ballard Brewing Company for a well-deserved coffee break. Enjoy a craft beer or a cup of coffee while relaxing.\n",
      "\n",
      "**6:30 PM - 8:00 PM: Dinner at Elliott’s Oyster House**\n",
      "- End your day with a delightful dinner at Elliott’s Oyster House, known for its fresh seafood. Try their famous oysters or other seafood dishes.\n",
      "\n",
      "**8:00 PM: Return Home**\n",
      "- Head back home after a fulfilling day of boating and swimming.\n",
      "\n",
      "Enjoy your day in Seattle!\n"
     ]
    }
   ],
   "execution_count": 13
  },
  {
   "cell_type": "markdown",
   "metadata": {},
   "source": [
    "#### Leverage the memory saver to manipulate the Graph State\n",
    "- Since the `Conversation Messages` are part of the graph state we can leverage that\n",
    "- However the graph state is tied to `session_id` which will be passed in as a `thread_id` which ties to a session\n",
    "- If we add a request with different thread id it will create a new session which will not have the previous `Interests`\n",
    "- However this this has the other check points variables as well and so this pattern is good for `A-Sync` workflow"
   ]
  },
  {
   "cell_type": "code",
   "metadata": {
    "ExecuteTime": {
     "end_time": "2025-02-13T20:25:18.209485Z",
     "start_time": "2025-02-13T20:25:13.462204Z"
    }
   },
   "source": [
    "config = {\"configurable\": {\"thread_id\": \"1\"}}\n",
    "\n",
    "user_request = \"Can you add white water rafting to this itinerary\"\n",
    "display_markdown(Markdown(run_travel_planner(user_request, config)))"
   ],
   "outputs": [
    {
     "name": "stdout",
     "output_type": "stream",
     "text": [
      "Current User Request: Can you add white water rafting to this itinerary\n",
      "\n",
      "\n",
      "Final Itinerary:\n",
      "Absolutely! Here's an updated itinerary that includes white-water rafting:\n",
      "\n",
      "### Seattle Boating, Swimming, and White-Water Rafting Day Trip Itinerary\n",
      "\n",
      "**8:00 AM - 9:00 AM: Breakfast at The Market by Jean-Georges**\n",
      "- Start your day with a delicious breakfast at this renowned restaurant.\n",
      "\n",
      "**9:30 AM - 10:30 AM: Rent a Boat at Leschi Boat Launch**\n",
      "- Head to Leschi Boat Launch to rent a boat. Choose from a variety of options to suit your needs.\n",
      "\n",
      "**10:30 AM - 12:00 PM: Boating on Lake Washington**\n",
      "- Take a leisurely boat ride on Lake Washington. Enjoy the beautiful scenery and the fresh air.\n",
      "\n",
      "**12:00 PM - 1:00 PM: Lunch at Leschi Tavern**\n",
      "- Dock at Leschi and enjoy a delicious lunch at Leschi Tavern. Try their famous fish tacos or other local favorites.\n",
      "\n",
      "**1:00 PM - 2:30 PM: Swimming at Sand Point Nature Park**\n",
      "- Head to Sand Point Nature Park. Unload your boat and take a refreshing swim in the lake. The water is usually calm and perfect for a swim.\n",
      "\n",
      "**2:30 PM - 4:00 PM: Explore Sand Point Nature Park**\n",
      "- Spend some time exploring the trails and enjoying the natural beauty of the park. There are plenty of spots to relax and take in the views.\n",
      "\n",
      "**4:00 PM - 5:30 PM: White-Water Rafting on the Skykomish River**\n",
      "- Drive to Skykomish, WA (about 1 hour from Seattle). Join a guided white-water rafting trip on the Skykomish River. Enjoy the thrill of navigating through rapids and the beauty of the surrounding wilderness.\n",
      "\n",
      "**5:30 PM - 6:30 PM: Coffee Break at Skykomish Brewing Company**\n",
      "- After your rafting adventure, take a short drive to Skykomish Brewing Company for a well-deserved coffee break. Enjoy a craft beer or a cup of coffee while relaxing.\n",
      "\n",
      "**6:30 PM - 8:00 PM: Dinner at Elliott’s Oyster House**\n",
      "- Head back to Seattle and end your day with a delightful dinner at Elliott’s Oyster House, known for its fresh seafood. Try their famous oysters or other seafood dishes.\n",
      "\n",
      "**8:00 PM: Return Home**\n",
      "- Head back home after a fulfilling day of boating, swimming, and white-water rafting.\n",
      "\n",
      "Enjoy your adventurous day in Seattle!\n"
     ]
    }
   ],
   "execution_count": 14
  },
  {
   "cell_type": "markdown",
   "metadata": {},
   "source": [
    "#### Run with another session\n",
    "\n",
    "Now this session will not have the previous conversations and we see it will create a new travel plan with the `white water rafting`  interests, not boating or swim"
   ]
  },
  {
   "cell_type": "code",
   "metadata": {
    "ExecuteTime": {
     "end_time": "2025-02-13T20:25:39.301581Z",
     "start_time": "2025-02-13T20:25:36.568798Z"
    }
   },
   "source": [
    "config = {\"configurable\": {\"thread_id\": \"11\"}}\n",
    "\n",
    "user_request = \"Can you add white water rafting to itinerary\"\n",
    "display_markdown(Markdown(run_travel_planner(user_request, config)))"
   ],
   "outputs": [
    {
     "name": "stdout",
     "output_type": "stream",
     "text": [
      "Current User Request: Can you add white water rafting to itinerary\n",
      "\n",
      "\n",
      "Final Itinerary:\n",
      "Certainly! Here's a day trip itinerary for Seattle that includes white water rafting based on your interests:\n",
      "\n",
      "### Seattle Day Trip Itinerary\n",
      "\n",
      "**8:00 AM - Breakfast at The Pink Door**\n",
      "- Start your day with a delicious breakfast at this famous restaurant.\n",
      "\n",
      "**9:30 AM - Visit Pike Place Market**\n",
      "- Explore the bustling Pike Place Market, famous for its fresh produce, seafood, and unique shops.\n",
      "\n",
      "**11:00 AM - Seattle Center and Space Needle**\n",
      "- Head to Seattle Center and take a trip to the top of the Space Needle for panoramic views of the city.\n",
      "\n",
      "**12:30 PM - Lunch at Columbia City**\n",
      "- Enjoy lunch at one of the trendy eateries in Columbia City, known for its vibrant food scene.\n",
      "\n",
      "**2:00 PM - White Water Rafting on the Green River**\n",
      "- Embark on an exhilarating white water rafting adventure on the Green River. (Book in advance for a guided tour)\n",
      "\n",
      "**5:00 PM - Relax at Alki Beach**\n",
      "- Unwind with a stroll along Alki Beach, enjoying the beautiful sunset views over Puget Sound.\n",
      "\n",
      "**6:30 PM - Dinner at The Walrus and the Carpenter**\n",
      "- Savor a delightful dinner at this popular seafood restaurant, known for its creative dishes.\n",
      "\n",
      "**8:00 PM - Evening at Pioneer Square**\n",
      "- End your day with a visit to Pioneer Square, where you can enjoy live music and street performances.\n",
      "\n",
      "Enjoy your adventure in Seattle!\n"
     ]
    }
   ],
   "execution_count": 15
  },
  {
   "cell_type": "markdown",
   "metadata": {},
   "source": [
    "### Explore `External Store` for memory\n",
    "\n",
    "\n",
    "For Memory we further need short term and long term memory which can be explained below. Further reading can be at this [link](https://langchain-ai.github.io/langgraph/concepts/memory/#what-is-memory)\n",
    "\n",
    "Conversation memory can be explained by this diagram below which explains the `turn by turn` conversations which needs to be accessed by agents and then saved as a summary for long term memory\n",
    "\n",
    "![long term memory](./assets/short-vs-long.png)\n",
    "\n"
   ]
  },
  {
   "cell_type": "markdown",
   "metadata": {},
   "source": [
    "#### Create a `Store`\n",
    "\n",
    "In this section we will leverage multi-thread, multi-session persistence to Chat Messages. Ideally you will leverage persistence like Redis Store etc to save messages per session"
   ]
  },
  {
   "cell_type": "code",
   "metadata": {
    "ExecuteTime": {
     "end_time": "2025-02-13T20:25:41.814635Z",
     "start_time": "2025-02-13T20:25:41.808340Z"
    }
   },
   "source": [
    "from langgraph.store.base import BaseStore, Item, Op, Result\n",
    "from langgraph.store.memory import InMemoryStore\n",
    "from typing import Any, Iterable, Literal, NamedTuple, Optional, Union, cast\n",
    "\n",
    "class CustomMemoryStore(BaseStore):\n",
    "\n",
    "    def __init__(self, ext_store):\n",
    "        self.store = ext_store\n",
    "\n",
    "    def get(self, namespace: tuple[str, ...], key: str) -> Optional[Item]:\n",
    "        return self.store.get(namespace,key)\n",
    "\n",
    "    def put(self, namespace: tuple[str, ...], key: str, value: dict[str, Any]) -> None:\n",
    "        return self.store.put(namespace, key, value)\n",
    "    def batch(self, ops: Iterable[Op]) -> list[Result]:\n",
    "        return self.store.batch(ops)\n",
    "    async def abatch(self, ops: Iterable[Op]) -> list[Result]:\n",
    "        return self.store.abatch(ops)\n"
   ],
   "outputs": [],
   "execution_count": 16
  },
  {
   "cell_type": "markdown",
   "metadata": {},
   "source": [
    "#### Quick look at how to use this store"
   ]
  },
  {
   "cell_type": "code",
   "metadata": {
    "ExecuteTime": {
     "end_time": "2025-02-13T20:25:51.529968Z",
     "start_time": "2025-02-13T20:25:51.526881Z"
    }
   },
   "source": [
    "in_memory_store = CustomMemoryStore(InMemoryStore())\n",
    "namespace_u = (\"chat_messages\", \"user_id_1\")\n",
    "key_u=\"user_id_1\"\n",
    "in_memory_store.put(namespace_u, key_u, {\"data\":[\"list a\"]})\n",
    "item_u = in_memory_store.get(namespace_u, key_u)\n",
    "print(item_u.value, item_u.value['data'])\n",
    "\n",
    "in_memory_store.list_namespaces()"
   ],
   "outputs": [
    {
     "name": "stdout",
     "output_type": "stream",
     "text": [
      "{'data': ['list a']} ['list a']\n"
     ]
    },
    {
     "data": {
      "text/plain": [
       "[('chat_messages', 'user_id_1')]"
      ]
     },
     "execution_count": 18,
     "metadata": {},
     "output_type": "execute_result"
    }
   ],
   "execution_count": 18
  },
  {
   "cell_type": "markdown",
   "metadata": {},
   "source": [
    "#### Create the similiar graph as earlier -- note we will not have any mesages in the Graph state as that has been externalized"
   ]
  },
  {
   "cell_type": "code",
   "metadata": {
    "ExecuteTime": {
     "end_time": "2025-02-13T20:25:52.740482Z",
     "start_time": "2025-02-13T20:25:52.738685Z"
    }
   },
   "source": [
    "class PlannerState(TypedDict):\n",
    "    itinerary: str\n",
    "    city: str\n",
    "    user_message: str"
   ],
   "outputs": [],
   "execution_count": 19
  },
  {
   "cell_type": "code",
   "metadata": {
    "ExecuteTime": {
     "end_time": "2025-02-13T20:25:54.039302Z",
     "start_time": "2025-02-13T20:25:54.035770Z"
    }
   },
   "source": [
    "def input_interests(state: PlannerState, config: RunnableConfig, *, store: BaseStore) -> PlannerState:\n",
    "    user_message = state['user_message'] #input(\"Your input: \")\n",
    "    return {\n",
    "        **state,\n",
    "    }\n",
    "\n",
    "def create_itinerary(state: PlannerState, config: RunnableConfig, *, store: BaseStore) -> PlannerState:\n",
    "    #- get the history from the store\n",
    "    user_u = f\"user_id_{config['configurable']['thread_id']}\"\n",
    "    namespace_u = (\"chat_messages\", user_u)\n",
    "    store_item = store.get(namespace=namespace_u, key=user_u)\n",
    "    chat_history_messages = store_item.value['data'] if store_item else []\n",
    "    print(user_u,chat_history_messages)\n",
    "\n",
    "    response = llm.invoke(itinerary_prompt.format_messages(city=state['city'], user_message=state['user_message'], chat_history=chat_history_messages))\n",
    "    print(\"\\nFinal Itinerary:\")\n",
    "    print(response.content)\n",
    "\n",
    "    #- add back to the store\n",
    "    store.put(namespace=namespace_u, key=user_u, value={\"data\":chat_history_messages+[HumanMessage(content=state['user_message']),AIMessage(content=response.content)]})\n",
    "    \n",
    "    return {\n",
    "        **state,\n",
    "        \"itinerary\": response.content\n",
    "    }"
   ],
   "outputs": [],
   "execution_count": 20
  },
  {
   "cell_type": "code",
   "metadata": {
    "ExecuteTime": {
     "end_time": "2025-02-13T20:26:03.477299Z",
     "start_time": "2025-02-13T20:26:03.472729Z"
    }
   },
   "source": [
    "in_memory_store_n = CustomMemoryStore(InMemoryStore())\n",
    "\n",
    "workflow = StateGraph(PlannerState)\n",
    "workflow.add_node(\"input_interests\", input_interests)\n",
    "workflow.add_node(\"create_itinerary\", create_itinerary)\n",
    "workflow.set_entry_point(\"input_interests\")\n",
    "workflow.add_edge(\"input_interests\", \"create_itinerary\")\n",
    "workflow.add_edge(\"create_itinerary\", END)\n",
    "\n",
    "\n",
    "app = workflow.compile(store=in_memory_store_n)"
   ],
   "outputs": [],
   "execution_count": 21
  },
  {
   "cell_type": "code",
   "metadata": {
    "ExecuteTime": {
     "end_time": "2025-02-13T20:27:07.980850Z",
     "start_time": "2025-02-13T20:27:04.092928Z"
    }
   },
   "source": [
    "def run_travel_planner(user_request: str, config_dict: dict):\n",
    "    display_markdown(Markdown(user_request))\n",
    "    init_input = {\"user_message\": user_request,\"city\" : \"Seattle\"}\n",
    "\n",
    "    for output in app.stream(init_input, config=config_dict, stream_mode=\"values\"):\n",
    "        pass  # The nodes themselves now handle all printing\n",
    "\n",
    "config = {\"configurable\": {\"thread_id\": \"1\"}}\n",
    "\n",
    "user_request = \"Can you create a itinerary for boating, swim. Need a complete plan\"\n",
    "run_travel_planner(user_request, config)\n"
   ],
   "outputs": [
    {
     "data": {
      "text/markdown": "Can you create a itinerary for boating, swim. Need a complete plan"
     },
     "metadata": {},
     "output_type": "display_data"
    },
    {
     "name": "stdout",
     "output_type": "stream",
     "text": [
      "user_id_1 [HumanMessage(content='Can you create a itinerary for boating, swim. Need a complete plan', additional_kwargs={}, response_metadata={}), AIMessage(content=\"Sure, here's a day trip itinerary for Seattle focusing on boating and swimming:\\n\\n**Seattle Boating and Swimming Day Trip Itinerary**\\n\\n- **8:00 AM - 9:00 AM: Breakfast at The Market's Edge**\\n  - Enjoy a hearty breakfast at this popular spot in Pioneer Square.\\n\\n- **9:30 AM - 11:00 AM: Rent a Boat at Leschi Park**\\n  - Head to Leschi Park and rent a kayak or paddleboard for the day.\\n\\n- **11:00 AM - 1:00 PM: Boating on Lake Union**\\n  - Paddle around Lake Union, taking in the views of the Seattle skyline and the University of Washington campus.\\n\\n- **1:00 PM - 2:00 PM: Lunch at Gas Works Park**\\n  - Enjoy a picnic lunch at Gas Works Park, a beautiful spot with views of the Seattle skyline and the industrial Gas Works Park.\\n\\n- **2:00 PM - 3:00 PM: Boating on Salmon Bay**\\n  - Continue your boating adventure over to Salmon Bay for more paddling and scenic views.\\n\\n- **3:00 PM - 4:00 PM: Swimming at Alki Beach**\\n  - Head to Alki Beach for a refreshing swim in the Puget Sound. \\n\\n- **4:00 PM - 5:00 PM: Relax and Enjoy the Beach**\\n  - Spend some time relaxing on the beach, soaking up the sun, or exploring the nearby Alki Point.\\n\\n- **5:00 PM - 6:00 PM: Dinner at The Walrus and the Carpenter**\\n  - Enjoy a delicious dinner at this popular seafood restaurant in West Seattle.\\n\\n- **6:30 PM - 8:00 PM: Sunset at Kerry Park**\\n  - End your day with a stunning sunset view at Kerry Park, a short drive from Alki Beach.\\n\\n- **8:00 PM: Return Home**\\n  - Head back home after a day filled with boating and swimming.\", additional_kwargs={}, response_metadata={}), HumanMessage(content='Can you add itinerary for white water rafting to this', additional_kwargs={}, response_metadata={}), AIMessage(content=\"Absolutely, here's an updated itinerary that includes white water rafting:\\n\\n**Seattle Boating, Swimming, and Whitewater Rafting Day Trip Itinerary**\\n\\n- **8:00 AM - 9:00 AM: Breakfast at The Market's Edge**\\n  - Enjoy a hearty breakfast at this popular spot in Pioneer Square.\\n\\n- **9:30 AM - 11:00 AM: Rent a Boat at Leschi Park**\\n  - Head to Leschi Park and rent a kayak or paddleboard for the day.\\n\\n- **11:00 AM - 1:00 PM: Boating on Lake Union**\\n  - Paddle around Lake Union, taking in the views of the Seattle skyline and the University of Washington campus.\\n\\n- **1:00 PM - 2:00 PM: Lunch at Gas Works Park**\\n  - Enjoy a picnic lunch at Gas Works Park, a beautiful spot with views of the Seattle skyline and the industrial Gas Works Park.\\n\\n- **2:00 PM - 3:00 PM: Boating on Salmon Bay**\\n  - Continue your boating adventure over to Salmon Bay for more paddling and scenic views.\\n\\n- **3:00 PM - 4:00 PM: Swimming at Alki Beach**\\n  - Head to Alki Beach for a refreshing swim in the Puget Sound.\\n\\n- **4:00 PM - 5:00 PM: Relax and Enjoy the Beach**\\n  - Spend some time relaxing on the beach, soaking up the sun, or exploring the nearby Alki Point.\\n\\n- **5:00 PM - 6:00 PM: Whitewater Rafting on the Snoqualmie River**\\n  - Head to the Snoqualmie River for an exhilarating white water rafting adventure. \\n\\n- **6:30 PM - 8:00 PM: Dinner at The Walrus and the Carpenter**\\n  - Enjoy a delicious dinner at this popular seafood restaurant in West Seattle.\\n\\n- **8:00 PM: Return Home**\\n  - Head back home after a day filled with boating, swimming, and white water rafting.\", additional_kwargs={}, response_metadata={}), HumanMessage(content='Can you create a itinerary for boating, swim. Need a complete plan', additional_kwargs={}, response_metadata={}), AIMessage(content=\"Certainly! Here's a complete itinerary for a day of boating and swimming in Seattle:\\n\\n**Seattle Boating and Swimming Day Trip Itinerary**\\n\\n- **8:00 AM - 9:00 AM: Breakfast at The Market's Edge**\\n  - Enjoy a hearty breakfast at this popular spot in Pioneer Square.\\n\\n- **9:30 AM - 11:00 AM: Rent a Boat at Leschi Park**\\n  - Head to Leschi Park and rent a kayak or paddleboard for the day.\\n\\n- **11:00 AM - 1:00 PM: Boating on Lake Union**\\n  - Paddle around Lake Union, taking in the views of the Seattle skyline and the University of Washington campus.\\n\\n- **1:00 PM - 2:00 PM: Lunch at Gas Works Park**\\n  - Enjoy a picnic lunch at Gas Works Park, a beautiful spot with views of the Seattle skyline and the industrial Gas Works Park.\\n\\n- **2:00 PM - 3:00 PM: Boating on Salmon Bay**\\n  - Continue your boating adventure over to Salmon Bay for more paddling and scenic views.\\n\\n- **3:00 PM - 4:00 PM: Swimming at Alki Beach**\\n  - Head to Alki Beach for a refreshing swim in the Puget Sound.\\n\\n- **4:00 PM - 5:00 PM: Relax and Enjoy the Beach**\\n  - Spend some time relaxing on the beach, soaking up the sun, or exploring the nearby Alki Point.\\n\\n- **5:00 PM - 6:00 PM: Dinner at The Walrus and the Carpenter**\\n  - Enjoy a delicious dinner at this popular seafood restaurant in West Seattle.\\n\\n- **6:30 PM - 8:00 PM: Sunset at Kerry Park**\\n  - End your day with a stunning sunset view at Kerry Park, a short drive from Alki Beach.\\n\\n- **8:00 PM: Return Home**\\n  - Head back home after a day filled with boating and swimming.\\n\\nThis itinerary provides a full day of boating and swimming in Seattle, with plenty of time to relax and enjoy the beautiful scenery.\", additional_kwargs={}, response_metadata={})]\n",
      "\n",
      "Final Itinerary:\n",
      "Absolutely! Here's a complete itinerary for a day of boating and swimming in Seattle:\n",
      "\n",
      "**Seattle Boating and Swimming Day Trip Itinerary**\n",
      "\n",
      "- **8:00 AM - 9:00 AM: Breakfast at The Market's Edge**\n",
      "  - Enjoy a hearty breakfast at this popular spot in Pioneer Square.\n",
      "\n",
      "- **9:30 AM - 11:00 AM: Rent a Boat at Leschi Park**\n",
      "  - Head to Leschi Park and rent a kayak or paddleboard for the day.\n",
      "\n",
      "- **11:00 AM - 1:00 PM: Boating on Lake Union**\n",
      "  - Paddle around Lake Union, taking in the views of the Seattle skyline and the University of Washington campus.\n",
      "\n",
      "- **1:00 PM - 2:00 PM: Lunch at Gas Works Park**\n",
      "  - Enjoy a picnic lunch at Gas Works Park, a beautiful spot with views of the Seattle skyline and the industrial Gas Works Park.\n",
      "\n",
      "- **2:00 PM - 3:00 PM: Boating on Salmon Bay**\n",
      "  - Continue your boating adventure over to Salmon Bay for more paddling and scenic views.\n",
      "\n",
      "- **3:00 PM - 4:00 PM: Swimming at Alki Beach**\n",
      "  - Head to Alki Beach for a refreshing swim in the Puget Sound.\n",
      "\n",
      "- **4:00 PM - 5:00 PM: Relax and Enjoy the Beach**\n",
      "  - Spend some time relaxing on the beach, soaking up the sun, or exploring the nearby Alki Point.\n",
      "\n",
      "- **5:00 PM - 6:00 PM: Dinner at The Walrus and the Carpenter**\n",
      "  - Enjoy a delicious dinner at this popular seafood restaurant in West Seattle.\n",
      "\n",
      "- **6:30 PM - 8:00 PM: Sunset at Kerry Park**\n",
      "  - End your day with a stunning sunset view at Kerry Park, a short drive from Alki Beach.\n",
      "\n",
      "- **8:00 PM: Return Home**\n",
      "  - Head back home after a day filled with boating and swimming.\n",
      "\n",
      "This itinerary provides a full day of boating and swimming in Seattle, with plenty of time to relax and enjoy the beautiful scenery.\n"
     ]
    }
   ],
   "execution_count": 25
  },
  {
   "cell_type": "code",
   "metadata": {
    "ExecuteTime": {
     "end_time": "2025-02-13T20:27:30.659616Z",
     "start_time": "2025-02-13T20:27:26.555248Z"
    }
   },
   "source": [
    "config = {\"configurable\": {\"thread_id\": \"1\"}}\n",
    "\n",
    "user_request = \"Can you add itinerary for white water rafting to this\"\n",
    "run_travel_planner(user_request, config)"
   ],
   "outputs": [
    {
     "data": {
      "text/markdown": "Can you add itinerary for white water rafting to this"
     },
     "metadata": {},
     "output_type": "display_data"
    },
    {
     "name": "stdout",
     "output_type": "stream",
     "text": [
      "user_id_1 [HumanMessage(content='Can you create a itinerary for boating, swim. Need a complete plan', additional_kwargs={}, response_metadata={}), AIMessage(content=\"Sure, here's a day trip itinerary for Seattle focusing on boating and swimming:\\n\\n**Seattle Boating and Swimming Day Trip Itinerary**\\n\\n- **8:00 AM - 9:00 AM: Breakfast at The Market's Edge**\\n  - Enjoy a hearty breakfast at this popular spot in Pioneer Square.\\n\\n- **9:30 AM - 11:00 AM: Rent a Boat at Leschi Park**\\n  - Head to Leschi Park and rent a kayak or paddleboard for the day.\\n\\n- **11:00 AM - 1:00 PM: Boating on Lake Union**\\n  - Paddle around Lake Union, taking in the views of the Seattle skyline and the University of Washington campus.\\n\\n- **1:00 PM - 2:00 PM: Lunch at Gas Works Park**\\n  - Enjoy a picnic lunch at Gas Works Park, a beautiful spot with views of the Seattle skyline and the industrial Gas Works Park.\\n\\n- **2:00 PM - 3:00 PM: Boating on Salmon Bay**\\n  - Continue your boating adventure over to Salmon Bay for more paddling and scenic views.\\n\\n- **3:00 PM - 4:00 PM: Swimming at Alki Beach**\\n  - Head to Alki Beach for a refreshing swim in the Puget Sound. \\n\\n- **4:00 PM - 5:00 PM: Relax and Enjoy the Beach**\\n  - Spend some time relaxing on the beach, soaking up the sun, or exploring the nearby Alki Point.\\n\\n- **5:00 PM - 6:00 PM: Dinner at The Walrus and the Carpenter**\\n  - Enjoy a delicious dinner at this popular seafood restaurant in West Seattle.\\n\\n- **6:30 PM - 8:00 PM: Sunset at Kerry Park**\\n  - End your day with a stunning sunset view at Kerry Park, a short drive from Alki Beach.\\n\\n- **8:00 PM: Return Home**\\n  - Head back home after a day filled with boating and swimming.\", additional_kwargs={}, response_metadata={}), HumanMessage(content='Can you add itinerary for white water rafting to this', additional_kwargs={}, response_metadata={}), AIMessage(content=\"Absolutely, here's an updated itinerary that includes white water rafting:\\n\\n**Seattle Boating, Swimming, and Whitewater Rafting Day Trip Itinerary**\\n\\n- **8:00 AM - 9:00 AM: Breakfast at The Market's Edge**\\n  - Enjoy a hearty breakfast at this popular spot in Pioneer Square.\\n\\n- **9:30 AM - 11:00 AM: Rent a Boat at Leschi Park**\\n  - Head to Leschi Park and rent a kayak or paddleboard for the day.\\n\\n- **11:00 AM - 1:00 PM: Boating on Lake Union**\\n  - Paddle around Lake Union, taking in the views of the Seattle skyline and the University of Washington campus.\\n\\n- **1:00 PM - 2:00 PM: Lunch at Gas Works Park**\\n  - Enjoy a picnic lunch at Gas Works Park, a beautiful spot with views of the Seattle skyline and the industrial Gas Works Park.\\n\\n- **2:00 PM - 3:00 PM: Boating on Salmon Bay**\\n  - Continue your boating adventure over to Salmon Bay for more paddling and scenic views.\\n\\n- **3:00 PM - 4:00 PM: Swimming at Alki Beach**\\n  - Head to Alki Beach for a refreshing swim in the Puget Sound.\\n\\n- **4:00 PM - 5:00 PM: Relax and Enjoy the Beach**\\n  - Spend some time relaxing on the beach, soaking up the sun, or exploring the nearby Alki Point.\\n\\n- **5:00 PM - 6:00 PM: Whitewater Rafting on the Snoqualmie River**\\n  - Head to the Snoqualmie River for an exhilarating white water rafting adventure. \\n\\n- **6:30 PM - 8:00 PM: Dinner at The Walrus and the Carpenter**\\n  - Enjoy a delicious dinner at this popular seafood restaurant in West Seattle.\\n\\n- **8:00 PM: Return Home**\\n  - Head back home after a day filled with boating, swimming, and white water rafting.\", additional_kwargs={}, response_metadata={}), HumanMessage(content='Can you create a itinerary for boating, swim. Need a complete plan', additional_kwargs={}, response_metadata={}), AIMessage(content=\"Certainly! Here's a complete itinerary for a day of boating and swimming in Seattle:\\n\\n**Seattle Boating and Swimming Day Trip Itinerary**\\n\\n- **8:00 AM - 9:00 AM: Breakfast at The Market's Edge**\\n  - Enjoy a hearty breakfast at this popular spot in Pioneer Square.\\n\\n- **9:30 AM - 11:00 AM: Rent a Boat at Leschi Park**\\n  - Head to Leschi Park and rent a kayak or paddleboard for the day.\\n\\n- **11:00 AM - 1:00 PM: Boating on Lake Union**\\n  - Paddle around Lake Union, taking in the views of the Seattle skyline and the University of Washington campus.\\n\\n- **1:00 PM - 2:00 PM: Lunch at Gas Works Park**\\n  - Enjoy a picnic lunch at Gas Works Park, a beautiful spot with views of the Seattle skyline and the industrial Gas Works Park.\\n\\n- **2:00 PM - 3:00 PM: Boating on Salmon Bay**\\n  - Continue your boating adventure over to Salmon Bay for more paddling and scenic views.\\n\\n- **3:00 PM - 4:00 PM: Swimming at Alki Beach**\\n  - Head to Alki Beach for a refreshing swim in the Puget Sound.\\n\\n- **4:00 PM - 5:00 PM: Relax and Enjoy the Beach**\\n  - Spend some time relaxing on the beach, soaking up the sun, or exploring the nearby Alki Point.\\n\\n- **5:00 PM - 6:00 PM: Dinner at The Walrus and the Carpenter**\\n  - Enjoy a delicious dinner at this popular seafood restaurant in West Seattle.\\n\\n- **6:30 PM - 8:00 PM: Sunset at Kerry Park**\\n  - End your day with a stunning sunset view at Kerry Park, a short drive from Alki Beach.\\n\\n- **8:00 PM: Return Home**\\n  - Head back home after a day filled with boating and swimming.\\n\\nThis itinerary provides a full day of boating and swimming in Seattle, with plenty of time to relax and enjoy the beautiful scenery.\", additional_kwargs={}, response_metadata={}), HumanMessage(content='Can you create a itinerary for boating, swim. Need a complete plan', additional_kwargs={}, response_metadata={}), AIMessage(content=\"Absolutely! Here's a complete itinerary for a day of boating and swimming in Seattle:\\n\\n**Seattle Boating and Swimming Day Trip Itinerary**\\n\\n- **8:00 AM - 9:00 AM: Breakfast at The Market's Edge**\\n  - Enjoy a hearty breakfast at this popular spot in Pioneer Square.\\n\\n- **9:30 AM - 11:00 AM: Rent a Boat at Leschi Park**\\n  - Head to Leschi Park and rent a kayak or paddleboard for the day.\\n\\n- **11:00 AM - 1:00 PM: Boating on Lake Union**\\n  - Paddle around Lake Union, taking in the views of the Seattle skyline and the University of Washington campus.\\n\\n- **1:00 PM - 2:00 PM: Lunch at Gas Works Park**\\n  - Enjoy a picnic lunch at Gas Works Park, a beautiful spot with views of the Seattle skyline and the industrial Gas Works Park.\\n\\n- **2:00 PM - 3:00 PM: Boating on Salmon Bay**\\n  - Continue your boating adventure over to Salmon Bay for more paddling and scenic views.\\n\\n- **3:00 PM - 4:00 PM: Swimming at Alki Beach**\\n  - Head to Alki Beach for a refreshing swim in the Puget Sound.\\n\\n- **4:00 PM - 5:00 PM: Relax and Enjoy the Beach**\\n  - Spend some time relaxing on the beach, soaking up the sun, or exploring the nearby Alki Point.\\n\\n- **5:00 PM - 6:00 PM: Dinner at The Walrus and the Carpenter**\\n  - Enjoy a delicious dinner at this popular seafood restaurant in West Seattle.\\n\\n- **6:30 PM - 8:00 PM: Sunset at Kerry Park**\\n  - End your day with a stunning sunset view at Kerry Park, a short drive from Alki Beach.\\n\\n- **8:00 PM: Return Home**\\n  - Head back home after a day filled with boating and swimming.\\n\\nThis itinerary provides a full day of boating and swimming in Seattle, with plenty of time to relax and enjoy the beautiful scenery.\", additional_kwargs={}, response_metadata={})]\n",
      "\n",
      "Final Itinerary:\n",
      "Sure, here's an updated itinerary that includes white water rafting:\n",
      "\n",
      "**Seattle Boating, Swimming, and Whitewater Rafting Day Trip Itinerary**\n",
      "\n",
      "- **8:00 AM - 9:00 AM: Breakfast at The Market's Edge**\n",
      "  - Enjoy a hearty breakfast at this popular spot in Pioneer Square.\n",
      "\n",
      "- **9:30 AM - 11:00 AM: Rent a Boat at Leschi Park**\n",
      "  - Head to Leschi Park and rent a kayak or paddleboard for the day.\n",
      "\n",
      "- **11:00 AM - 1:00 PM: Boating on Lake Union**\n",
      "  - Paddle around Lake Union, taking in the views of the Seattle skyline and the University of Washington campus.\n",
      "\n",
      "- **1:00 PM - 2:00 PM: Lunch at Gas Works Park**\n",
      "  - Enjoy a picnic lunch at Gas Works Park, a beautiful spot with views of the Seattle skyline and the industrial Gas Works Park.\n",
      "\n",
      "- **2:00 PM - 3:00 PM: Boating on Salmon Bay**\n",
      "  - Continue your boating adventure over to Salmon Bay for more paddling and scenic views.\n",
      "\n",
      "- **3:00 PM - 4:00 PM: Swimming at Alki Beach**\n",
      "  - Head to Alki Beach for a refreshing swim in the Puget Sound.\n",
      "\n",
      "- **4:00 PM - 5:00 PM: Relax and Enjoy the Beach**\n",
      "  - Spend some time relaxing on the beach, soaking up the sun, or exploring the nearby Alki Point.\n",
      "\n",
      "- **5:00 PM - 6:00 PM: Whitewater Rafting on the Snoqualmie River**\n",
      "  - Head to the Snoqualmie River for an exhilarating white water rafting adventure.\n",
      "\n",
      "- **6:30 PM - 8:00 PM: Dinner at The Walrus and the Carpenter**\n",
      "  - Enjoy a delicious dinner at this popular seafood restaurant in West Seattle.\n",
      "\n",
      "- **8:00 PM: Return Home**\n",
      "  - Head back home after a day filled with boating, swimming, and white water rafting.\n",
      "\n",
      "This itinerary provides a full day of boating, swimming, and white water rafting in Seattle, with plenty of time to relax and enjoy the beautiful scenery.\n"
     ]
    }
   ],
   "execution_count": 26
  },
  {
   "cell_type": "markdown",
   "metadata": {},
   "source": [
    "#### Quick look at the store\n",
    "\n",
    "it will show the History of the Chat Messages"
   ]
  },
  {
   "cell_type": "code",
   "metadata": {
    "ExecuteTime": {
     "end_time": "2025-02-13T20:27:30.674534Z",
     "start_time": "2025-02-13T20:27:30.671809Z"
    }
   },
   "source": [
    "print(in_memory_store_n.list_namespaces())\n",
    "print(in_memory_store_n.get(('chat_messages', 'user_id_1'),'user_id_1').value)"
   ],
   "outputs": [
    {
     "name": "stdout",
     "output_type": "stream",
     "text": [
      "[('chat_messages', 'user_id_1')]\n",
      "{'data': [HumanMessage(content='Can you create a itinerary for boating, swim. Need a complete plan', additional_kwargs={}, response_metadata={}), AIMessage(content=\"Sure, here's a day trip itinerary for Seattle focusing on boating and swimming:\\n\\n**Seattle Boating and Swimming Day Trip Itinerary**\\n\\n- **8:00 AM - 9:00 AM: Breakfast at The Market's Edge**\\n  - Enjoy a hearty breakfast at this popular spot in Pioneer Square.\\n\\n- **9:30 AM - 11:00 AM: Rent a Boat at Leschi Park**\\n  - Head to Leschi Park and rent a kayak or paddleboard for the day.\\n\\n- **11:00 AM - 1:00 PM: Boating on Lake Union**\\n  - Paddle around Lake Union, taking in the views of the Seattle skyline and the University of Washington campus.\\n\\n- **1:00 PM - 2:00 PM: Lunch at Gas Works Park**\\n  - Enjoy a picnic lunch at Gas Works Park, a beautiful spot with views of the Seattle skyline and the industrial Gas Works Park.\\n\\n- **2:00 PM - 3:00 PM: Boating on Salmon Bay**\\n  - Continue your boating adventure over to Salmon Bay for more paddling and scenic views.\\n\\n- **3:00 PM - 4:00 PM: Swimming at Alki Beach**\\n  - Head to Alki Beach for a refreshing swim in the Puget Sound. \\n\\n- **4:00 PM - 5:00 PM: Relax and Enjoy the Beach**\\n  - Spend some time relaxing on the beach, soaking up the sun, or exploring the nearby Alki Point.\\n\\n- **5:00 PM - 6:00 PM: Dinner at The Walrus and the Carpenter**\\n  - Enjoy a delicious dinner at this popular seafood restaurant in West Seattle.\\n\\n- **6:30 PM - 8:00 PM: Sunset at Kerry Park**\\n  - End your day with a stunning sunset view at Kerry Park, a short drive from Alki Beach.\\n\\n- **8:00 PM: Return Home**\\n  - Head back home after a day filled with boating and swimming.\", additional_kwargs={}, response_metadata={}), HumanMessage(content='Can you add itinerary for white water rafting to this', additional_kwargs={}, response_metadata={}), AIMessage(content=\"Absolutely, here's an updated itinerary that includes white water rafting:\\n\\n**Seattle Boating, Swimming, and Whitewater Rafting Day Trip Itinerary**\\n\\n- **8:00 AM - 9:00 AM: Breakfast at The Market's Edge**\\n  - Enjoy a hearty breakfast at this popular spot in Pioneer Square.\\n\\n- **9:30 AM - 11:00 AM: Rent a Boat at Leschi Park**\\n  - Head to Leschi Park and rent a kayak or paddleboard for the day.\\n\\n- **11:00 AM - 1:00 PM: Boating on Lake Union**\\n  - Paddle around Lake Union, taking in the views of the Seattle skyline and the University of Washington campus.\\n\\n- **1:00 PM - 2:00 PM: Lunch at Gas Works Park**\\n  - Enjoy a picnic lunch at Gas Works Park, a beautiful spot with views of the Seattle skyline and the industrial Gas Works Park.\\n\\n- **2:00 PM - 3:00 PM: Boating on Salmon Bay**\\n  - Continue your boating adventure over to Salmon Bay for more paddling and scenic views.\\n\\n- **3:00 PM - 4:00 PM: Swimming at Alki Beach**\\n  - Head to Alki Beach for a refreshing swim in the Puget Sound.\\n\\n- **4:00 PM - 5:00 PM: Relax and Enjoy the Beach**\\n  - Spend some time relaxing on the beach, soaking up the sun, or exploring the nearby Alki Point.\\n\\n- **5:00 PM - 6:00 PM: Whitewater Rafting on the Snoqualmie River**\\n  - Head to the Snoqualmie River for an exhilarating white water rafting adventure. \\n\\n- **6:30 PM - 8:00 PM: Dinner at The Walrus and the Carpenter**\\n  - Enjoy a delicious dinner at this popular seafood restaurant in West Seattle.\\n\\n- **8:00 PM: Return Home**\\n  - Head back home after a day filled with boating, swimming, and white water rafting.\", additional_kwargs={}, response_metadata={}), HumanMessage(content='Can you create a itinerary for boating, swim. Need a complete plan', additional_kwargs={}, response_metadata={}), AIMessage(content=\"Certainly! Here's a complete itinerary for a day of boating and swimming in Seattle:\\n\\n**Seattle Boating and Swimming Day Trip Itinerary**\\n\\n- **8:00 AM - 9:00 AM: Breakfast at The Market's Edge**\\n  - Enjoy a hearty breakfast at this popular spot in Pioneer Square.\\n\\n- **9:30 AM - 11:00 AM: Rent a Boat at Leschi Park**\\n  - Head to Leschi Park and rent a kayak or paddleboard for the day.\\n\\n- **11:00 AM - 1:00 PM: Boating on Lake Union**\\n  - Paddle around Lake Union, taking in the views of the Seattle skyline and the University of Washington campus.\\n\\n- **1:00 PM - 2:00 PM: Lunch at Gas Works Park**\\n  - Enjoy a picnic lunch at Gas Works Park, a beautiful spot with views of the Seattle skyline and the industrial Gas Works Park.\\n\\n- **2:00 PM - 3:00 PM: Boating on Salmon Bay**\\n  - Continue your boating adventure over to Salmon Bay for more paddling and scenic views.\\n\\n- **3:00 PM - 4:00 PM: Swimming at Alki Beach**\\n  - Head to Alki Beach for a refreshing swim in the Puget Sound.\\n\\n- **4:00 PM - 5:00 PM: Relax and Enjoy the Beach**\\n  - Spend some time relaxing on the beach, soaking up the sun, or exploring the nearby Alki Point.\\n\\n- **5:00 PM - 6:00 PM: Dinner at The Walrus and the Carpenter**\\n  - Enjoy a delicious dinner at this popular seafood restaurant in West Seattle.\\n\\n- **6:30 PM - 8:00 PM: Sunset at Kerry Park**\\n  - End your day with a stunning sunset view at Kerry Park, a short drive from Alki Beach.\\n\\n- **8:00 PM: Return Home**\\n  - Head back home after a day filled with boating and swimming.\\n\\nThis itinerary provides a full day of boating and swimming in Seattle, with plenty of time to relax and enjoy the beautiful scenery.\", additional_kwargs={}, response_metadata={}), HumanMessage(content='Can you create a itinerary for boating, swim. Need a complete plan', additional_kwargs={}, response_metadata={}), AIMessage(content=\"Absolutely! Here's a complete itinerary for a day of boating and swimming in Seattle:\\n\\n**Seattle Boating and Swimming Day Trip Itinerary**\\n\\n- **8:00 AM - 9:00 AM: Breakfast at The Market's Edge**\\n  - Enjoy a hearty breakfast at this popular spot in Pioneer Square.\\n\\n- **9:30 AM - 11:00 AM: Rent a Boat at Leschi Park**\\n  - Head to Leschi Park and rent a kayak or paddleboard for the day.\\n\\n- **11:00 AM - 1:00 PM: Boating on Lake Union**\\n  - Paddle around Lake Union, taking in the views of the Seattle skyline and the University of Washington campus.\\n\\n- **1:00 PM - 2:00 PM: Lunch at Gas Works Park**\\n  - Enjoy a picnic lunch at Gas Works Park, a beautiful spot with views of the Seattle skyline and the industrial Gas Works Park.\\n\\n- **2:00 PM - 3:00 PM: Boating on Salmon Bay**\\n  - Continue your boating adventure over to Salmon Bay for more paddling and scenic views.\\n\\n- **3:00 PM - 4:00 PM: Swimming at Alki Beach**\\n  - Head to Alki Beach for a refreshing swim in the Puget Sound.\\n\\n- **4:00 PM - 5:00 PM: Relax and Enjoy the Beach**\\n  - Spend some time relaxing on the beach, soaking up the sun, or exploring the nearby Alki Point.\\n\\n- **5:00 PM - 6:00 PM: Dinner at The Walrus and the Carpenter**\\n  - Enjoy a delicious dinner at this popular seafood restaurant in West Seattle.\\n\\n- **6:30 PM - 8:00 PM: Sunset at Kerry Park**\\n  - End your day with a stunning sunset view at Kerry Park, a short drive from Alki Beach.\\n\\n- **8:00 PM: Return Home**\\n  - Head back home after a day filled with boating and swimming.\\n\\nThis itinerary provides a full day of boating and swimming in Seattle, with plenty of time to relax and enjoy the beautiful scenery.\", additional_kwargs={}, response_metadata={}), HumanMessage(content='Can you add itinerary for white water rafting to this', additional_kwargs={}, response_metadata={}), AIMessage(content=\"Sure, here's an updated itinerary that includes white water rafting:\\n\\n**Seattle Boating, Swimming, and Whitewater Rafting Day Trip Itinerary**\\n\\n- **8:00 AM - 9:00 AM: Breakfast at The Market's Edge**\\n  - Enjoy a hearty breakfast at this popular spot in Pioneer Square.\\n\\n- **9:30 AM - 11:00 AM: Rent a Boat at Leschi Park**\\n  - Head to Leschi Park and rent a kayak or paddleboard for the day.\\n\\n- **11:00 AM - 1:00 PM: Boating on Lake Union**\\n  - Paddle around Lake Union, taking in the views of the Seattle skyline and the University of Washington campus.\\n\\n- **1:00 PM - 2:00 PM: Lunch at Gas Works Park**\\n  - Enjoy a picnic lunch at Gas Works Park, a beautiful spot with views of the Seattle skyline and the industrial Gas Works Park.\\n\\n- **2:00 PM - 3:00 PM: Boating on Salmon Bay**\\n  - Continue your boating adventure over to Salmon Bay for more paddling and scenic views.\\n\\n- **3:00 PM - 4:00 PM: Swimming at Alki Beach**\\n  - Head to Alki Beach for a refreshing swim in the Puget Sound.\\n\\n- **4:00 PM - 5:00 PM: Relax and Enjoy the Beach**\\n  - Spend some time relaxing on the beach, soaking up the sun, or exploring the nearby Alki Point.\\n\\n- **5:00 PM - 6:00 PM: Whitewater Rafting on the Snoqualmie River**\\n  - Head to the Snoqualmie River for an exhilarating white water rafting adventure.\\n\\n- **6:30 PM - 8:00 PM: Dinner at The Walrus and the Carpenter**\\n  - Enjoy a delicious dinner at this popular seafood restaurant in West Seattle.\\n\\n- **8:00 PM: Return Home**\\n  - Head back home after a day filled with boating, swimming, and white water rafting.\\n\\nThis itinerary provides a full day of boating, swimming, and white water rafting in Seattle, with plenty of time to relax and enjoy the beautiful scenery.\", additional_kwargs={}, response_metadata={})]}\n"
     ]
    }
   ],
   "execution_count": 27
  },
  {
   "cell_type": "markdown",
   "metadata": {},
   "source": [
    "### Finally we review the concept of having Ecah `Agent` be backed by it's own memory\n",
    "\n",
    "For this we will leverage the RunnableWithMessageHistory when creating the agent\n",
    "- Here we create to simulate a InMemoryChatMessageHistory, but this will be externalized in produftion use cases\n",
    "- use this this as a sample"
   ]
  },
  {
   "cell_type": "code",
   "metadata": {
    "ExecuteTime": {
     "end_time": "2025-02-13T20:28:45.348129Z",
     "start_time": "2025-02-13T20:28:45.329945Z"
    }
   },
   "source": [
    "from langchain_core.chat_history import InMemoryChatMessageHistory\n",
    "from langchain_core.prompts import ChatPromptTemplate\n",
    "from langchain_core.runnables.history import RunnableWithMessageHistory\n",
    "\n",
    "\n",
    "bedrock_client = boto3.client(\"bedrock-runtime\", region_name=\"us-east-1\")\n",
    "model_id = \"amazon.nova-lite-v1:0\"\n",
    "provider_id = \"amazon\"\n",
    "\n",
    "chatbedrock_llm = ChatBedrockConverse(\n",
    "    model=model_id,\n",
    "    provider=provider_id,\n",
    "    temperature=0,\n",
    "    max_tokens=None,\n",
    "    client=bedrock_client,\n",
    ")\n",
    "\n",
    "itinerary_prompt = ChatPromptTemplate.from_messages([\n",
    "    (\"system\", \"You are a helpful travel assistant. Create a day trip itinerary for {city} based on the user's interests. Use the below chat conversation and the latest input from Human to get the user interests. Provide a brief, bulleted itinerary.\"),\n",
    "    MessagesPlaceholder(\"chat_history\"),\n",
    "    (\"human\", \"{user_message}\"),\n",
    "])\n",
    "chain = itinerary_prompt | chatbedrock_llm \n",
    "\n",
    "history = InMemoryChatMessageHistory()\n",
    "def get_history():\n",
    "    return history\n",
    "\n",
    "wrapped_chain = RunnableWithMessageHistory(\n",
    "    chain,\n",
    "    get_history,\n",
    "    history_messages_key=\"chat_history\",\n",
    ")\n"
   ],
   "outputs": [],
   "execution_count": 28
  },
  {
   "cell_type": "code",
   "metadata": {
    "ExecuteTime": {
     "end_time": "2025-02-13T20:28:47.838213Z",
     "start_time": "2025-02-13T20:28:47.834774Z"
    }
   },
   "source": [
    "class PlannerState(TypedDict):\n",
    "    itinerary: str\n",
    "    city: str\n",
    "    user_message: str\n",
    "\n",
    "def input_interests(state: PlannerState, config: RunnableConfig, *, store: BaseStore) -> PlannerState:\n",
    "    user_message = state['user_message'] #input(\"Your input: \")\n",
    "    return {\n",
    "        **state,\n",
    "    }\n",
    "\n",
    "def create_itinerary(state: PlannerState, config: RunnableConfig, *, store: BaseStore) -> PlannerState:\n",
    "    #- each agent manages it's memory\n",
    "    response = wrapped_chain.invoke({\"city\": state['city'], \"user_message\": state['user_message'], \"input\": state['user_message']} )\n",
    "    print(\"\\nFinal Itinerary:\")\n",
    "    print(response.content)\n",
    "    \n",
    "    return {\n",
    "        **state,\n",
    "        \"itinerary\": response.content\n",
    "    }"
   ],
   "outputs": [],
   "execution_count": 29
  },
  {
   "cell_type": "code",
   "metadata": {
    "ExecuteTime": {
     "end_time": "2025-02-13T20:28:55.495757Z",
     "start_time": "2025-02-13T20:28:55.491726Z"
    }
   },
   "source": [
    "workflow = StateGraph(PlannerState)\n",
    "\n",
    "workflow.add_node(\"input_interests\", input_interests)\n",
    "workflow.add_node(\"create_itinerary\", create_itinerary)\n",
    "workflow.set_entry_point(\"input_interests\")\n",
    "workflow.add_edge(\"input_interests\", \"create_itinerary\")\n",
    "workflow.add_edge(\"create_itinerary\", END)\n",
    "\n",
    "\n",
    "app = workflow.compile()"
   ],
   "outputs": [],
   "execution_count": 30
  },
  {
   "cell_type": "code",
   "metadata": {
    "ExecuteTime": {
     "end_time": "2025-02-13T20:29:00.318334Z",
     "start_time": "2025-02-13T20:28:56.242278Z"
    }
   },
   "source": [
    "def run_travel_planner(user_request: str, config_dict: dict):\n",
    "    print(f\"Current User Request: {user_request}\\n\")\n",
    "    init_input = {\"user_message\": user_request,\"city\" : \"Seattle\"}\n",
    "\n",
    "    for output in app.stream(init_input, config=config_dict, stream_mode=\"values\"):\n",
    "        pass  # The nodes themselves now handle all printing\n",
    "\n",
    "config = {\"configurable\": {\"thread_id\": \"1\"}}\n",
    "\n",
    "user_request = \"Can you create a itinerary for boating, swim. Need a complete plan\"\n",
    "run_travel_planner(user_request, config)"
   ],
   "outputs": [
    {
     "name": "stdout",
     "output_type": "stream",
     "text": [
      "Current User Request: Can you create a itinerary for boating, swim. Need a complete plan\n",
      "\n",
      "\n",
      "Final Itinerary:\n",
      "Sure! Here's a day trip itinerary for Seattle focusing on boating and swimming:\n",
      "\n",
      "**Seattle Boating and Swimming Day Trip Itinerary**\n",
      "\n",
      "- **8:00 AM - 9:00 AM: Breakfast at The Crumpet House**\n",
      "  - Enjoy a delicious breakfast to fuel your day.\n",
      "\n",
      "- **9:30 AM - 11:00 AM: Rent a Boat at Rent a Boat Seattle**\n",
      "  - Head to Rent a Boat Seattle to rent a boat for the day.\n",
      "\n",
      "- **11:00 AM - 1:00 PM: Boating on Lake Union**\n",
      "  - Explore the scenic Lake Union, taking in views of the city skyline and the iconic Space Needle.\n",
      "\n",
      "- **1:00 PM - 2:00 PM: Lunch at Gas Works Park**\n",
      "  - Enjoy a picnic lunch at the beautiful Gas Works Park, with its stunning views of the Seattle skyline and industrial remnants.\n",
      "\n",
      "- **2:00 PM - 3:00 PM: Boating on Puget Sound**\n",
      "  - Head out to Puget Sound for a change of scenery and some open water.\n",
      "\n",
      "- **3:00 PM - 4:00 PM: Swimming at Alki Beach**\n",
      "  - Dock at Alki Beach and take a refreshing swim in the Puget Sound.\n",
      "\n",
      "- **4:00 PM - 5:00 PM: Explore Alki Beach**\n",
      "  - Stroll along the beach, enjoy the sunset, and take in the vibrant atmosphere of Alki Beach.\n",
      "\n",
      "- **5:00 PM - 6:00 PM: Dinner at The Walrus and the Carpenter**\n",
      "  - Head back to the city and enjoy a delightful dinner at The Walrus and the Carpenter, known for its seafood and waterfront views.\n",
      "\n",
      "- **6:00 PM - 7:00 PM: Evening Walk at Waterfront Park**\n",
      "  - Take a leisurely evening walk along Waterfront Park, enjoying the beautiful views of the Seattle skyline and Elliott Bay.\n",
      "\n",
      "- **7:00 PM - 8:00 PM: Drinks at The Moore Tavern**\n",
      "  - End your day with a drink at The Moore Tavern, a historic bar with a great atmosphere.\n",
      "\n",
      "Enjoy your day in Seattle!\n"
     ]
    }
   ],
   "execution_count": 31
  },
  {
   "cell_type": "code",
   "metadata": {
    "ExecuteTime": {
     "end_time": "2025-02-13T20:29:06.377434Z",
     "start_time": "2025-02-13T20:29:02.197601Z"
    }
   },
   "source": [
    "user_request = \"Can you add white water rafting to this itinerary\"\n",
    "run_travel_planner(user_request, config)"
   ],
   "outputs": [
    {
     "name": "stdout",
     "output_type": "stream",
     "text": [
      "Current User Request: Can you add white water rafting to this itinerary\n",
      "\n",
      "\n",
      "Final Itinerary:\n",
      "Absolutely! Here's an updated itinerary that includes white-water rafting:\n",
      "\n",
      "**Seattle Boating, Swimming, and White-Water Rafting Day Trip Itinerary**\n",
      "\n",
      "- **8:00 AM - 9:00 AM: Breakfast at The Crumpet House**\n",
      "  - Enjoy a delicious breakfast to fuel your day.\n",
      "\n",
      "- **9:30 AM - 11:00 AM: Rent a Boat at Rent a Boat Seattle**\n",
      "  - Head to Rent a Boat Seattle to rent a boat for the day.\n",
      "\n",
      "- **11:00 AM - 1:00 PM: Boating on Lake Union**\n",
      "  - Explore the scenic Lake Union, taking in views of the city skyline and the iconic Space Needle.\n",
      "\n",
      "- **1:00 PM - 2:00 PM: Lunch at Gas Works Park**\n",
      "  - Enjoy a picnic lunch at the beautiful Gas Works Park, with its stunning views of the Seattle skyline and industrial remnants.\n",
      "\n",
      "- **2:00 PM - 3:00 PM: Boating on Puget Sound**\n",
      "  - Head out to Puget Sound for a change of scenery and some open water.\n",
      "\n",
      "- **3:00 PM - 4:00 PM: White-Water Rafting with Northwest Rafting Company**\n",
      "  - Head to Northwest Rafting Company for an exhilarating white-water rafting adventure on the White River.\n",
      "\n",
      "- **4:00 PM - 5:00 PM: Swimming at Alki Beach**\n",
      "  - Dock at Alki Beach and take a refreshing swim in the Puget Sound.\n",
      "\n",
      "- **5:00 PM - 6:00 PM: Explore Alki Beach**\n",
      "  - Stroll along the beach, enjoy the sunset, and take in the vibrant atmosphere of Alki Beach.\n",
      "\n",
      "- **6:00 PM - 7:00 PM: Dinner at The Walrus and the Carpenter**\n",
      "  - Head back to the city and enjoy a delightful dinner at The Walrus and the Carpenter, known for its seafood and waterfront views.\n",
      "\n",
      "- **7:00 PM - 8:00 PM: Evening Walk at Waterfront Park**\n",
      "  - Take a leisurely evening walk along Waterfront Park, enjoying the beautiful views of the Seattle skyline and Elliott Bay.\n",
      "\n",
      "- **8:00 PM - 9:00 PM: Drinks at The Moore Tavern**\n",
      "  - End your day with a drink at The Moore Tavern, a historic bar with a great atmosphere.\n",
      "\n",
      "Enjoy your adventurous day in Seattle!\n"
     ]
    }
   ],
   "execution_count": 32
  },
  {
   "cell_type": "markdown",
   "metadata": {},
   "source": [
    "## Conclusion\n",
    "\n",
    "You have successfully executed a simple LangGraph implementation, this lab demonstrates how LangGraph can be used to create a simple yet effective Travel Planner. By structuring our application as a graph of interconnected nodes, we achieve a clear separation of concerns and a easily modifiable workflow. This approach can be extended to more complex applications, showcasing the power and flexibility of graph-based designs in AI-driven conversational interfaces.\n",
    "\n",
    "Please proceed to the next lab"
   ]
  },
  {
   "cell_type": "code",
   "execution_count": null,
   "metadata": {},
   "outputs": [],
   "source": []
  }
 ],
 "metadata": {
  "availableInstances": [
   {
    "_defaultOrder": 0,
    "_isFastLaunch": true,
    "category": "General purpose",
    "gpuNum": 0,
    "hideHardwareSpecs": false,
    "memoryGiB": 4,
    "name": "ml.t3.medium",
    "vcpuNum": 2
   },
   {
    "_defaultOrder": 1,
    "_isFastLaunch": false,
    "category": "General purpose",
    "gpuNum": 0,
    "hideHardwareSpecs": false,
    "memoryGiB": 8,
    "name": "ml.t3.large",
    "vcpuNum": 2
   },
   {
    "_defaultOrder": 2,
    "_isFastLaunch": false,
    "category": "General purpose",
    "gpuNum": 0,
    "hideHardwareSpecs": false,
    "memoryGiB": 16,
    "name": "ml.t3.xlarge",
    "vcpuNum": 4
   },
   {
    "_defaultOrder": 3,
    "_isFastLaunch": false,
    "category": "General purpose",
    "gpuNum": 0,
    "hideHardwareSpecs": false,
    "memoryGiB": 32,
    "name": "ml.t3.2xlarge",
    "vcpuNum": 8
   },
   {
    "_defaultOrder": 4,
    "_isFastLaunch": true,
    "category": "General purpose",
    "gpuNum": 0,
    "hideHardwareSpecs": false,
    "memoryGiB": 8,
    "name": "ml.m5.large",
    "vcpuNum": 2
   },
   {
    "_defaultOrder": 5,
    "_isFastLaunch": false,
    "category": "General purpose",
    "gpuNum": 0,
    "hideHardwareSpecs": false,
    "memoryGiB": 16,
    "name": "ml.m5.xlarge",
    "vcpuNum": 4
   },
   {
    "_defaultOrder": 6,
    "_isFastLaunch": false,
    "category": "General purpose",
    "gpuNum": 0,
    "hideHardwareSpecs": false,
    "memoryGiB": 32,
    "name": "ml.m5.2xlarge",
    "vcpuNum": 8
   },
   {
    "_defaultOrder": 7,
    "_isFastLaunch": false,
    "category": "General purpose",
    "gpuNum": 0,
    "hideHardwareSpecs": false,
    "memoryGiB": 64,
    "name": "ml.m5.4xlarge",
    "vcpuNum": 16
   },
   {
    "_defaultOrder": 8,
    "_isFastLaunch": false,
    "category": "General purpose",
    "gpuNum": 0,
    "hideHardwareSpecs": false,
    "memoryGiB": 128,
    "name": "ml.m5.8xlarge",
    "vcpuNum": 32
   },
   {
    "_defaultOrder": 9,
    "_isFastLaunch": false,
    "category": "General purpose",
    "gpuNum": 0,
    "hideHardwareSpecs": false,
    "memoryGiB": 192,
    "name": "ml.m5.12xlarge",
    "vcpuNum": 48
   },
   {
    "_defaultOrder": 10,
    "_isFastLaunch": false,
    "category": "General purpose",
    "gpuNum": 0,
    "hideHardwareSpecs": false,
    "memoryGiB": 256,
    "name": "ml.m5.16xlarge",
    "vcpuNum": 64
   },
   {
    "_defaultOrder": 11,
    "_isFastLaunch": false,
    "category": "General purpose",
    "gpuNum": 0,
    "hideHardwareSpecs": false,
    "memoryGiB": 384,
    "name": "ml.m5.24xlarge",
    "vcpuNum": 96
   },
   {
    "_defaultOrder": 12,
    "_isFastLaunch": false,
    "category": "General purpose",
    "gpuNum": 0,
    "hideHardwareSpecs": false,
    "memoryGiB": 8,
    "name": "ml.m5d.large",
    "vcpuNum": 2
   },
   {
    "_defaultOrder": 13,
    "_isFastLaunch": false,
    "category": "General purpose",
    "gpuNum": 0,
    "hideHardwareSpecs": false,
    "memoryGiB": 16,
    "name": "ml.m5d.xlarge",
    "vcpuNum": 4
   },
   {
    "_defaultOrder": 14,
    "_isFastLaunch": false,
    "category": "General purpose",
    "gpuNum": 0,
    "hideHardwareSpecs": false,
    "memoryGiB": 32,
    "name": "ml.m5d.2xlarge",
    "vcpuNum": 8
   },
   {
    "_defaultOrder": 15,
    "_isFastLaunch": false,
    "category": "General purpose",
    "gpuNum": 0,
    "hideHardwareSpecs": false,
    "memoryGiB": 64,
    "name": "ml.m5d.4xlarge",
    "vcpuNum": 16
   },
   {
    "_defaultOrder": 16,
    "_isFastLaunch": false,
    "category": "General purpose",
    "gpuNum": 0,
    "hideHardwareSpecs": false,
    "memoryGiB": 128,
    "name": "ml.m5d.8xlarge",
    "vcpuNum": 32
   },
   {
    "_defaultOrder": 17,
    "_isFastLaunch": false,
    "category": "General purpose",
    "gpuNum": 0,
    "hideHardwareSpecs": false,
    "memoryGiB": 192,
    "name": "ml.m5d.12xlarge",
    "vcpuNum": 48
   },
   {
    "_defaultOrder": 18,
    "_isFastLaunch": false,
    "category": "General purpose",
    "gpuNum": 0,
    "hideHardwareSpecs": false,
    "memoryGiB": 256,
    "name": "ml.m5d.16xlarge",
    "vcpuNum": 64
   },
   {
    "_defaultOrder": 19,
    "_isFastLaunch": false,
    "category": "General purpose",
    "gpuNum": 0,
    "hideHardwareSpecs": false,
    "memoryGiB": 384,
    "name": "ml.m5d.24xlarge",
    "vcpuNum": 96
   },
   {
    "_defaultOrder": 20,
    "_isFastLaunch": false,
    "category": "General purpose",
    "gpuNum": 0,
    "hideHardwareSpecs": true,
    "memoryGiB": 0,
    "name": "ml.geospatial.interactive",
    "supportedImageNames": [
     "sagemaker-geospatial-v1-0"
    ],
    "vcpuNum": 0
   },
   {
    "_defaultOrder": 21,
    "_isFastLaunch": true,
    "category": "Compute optimized",
    "gpuNum": 0,
    "hideHardwareSpecs": false,
    "memoryGiB": 4,
    "name": "ml.c5.large",
    "vcpuNum": 2
   },
   {
    "_defaultOrder": 22,
    "_isFastLaunch": false,
    "category": "Compute optimized",
    "gpuNum": 0,
    "hideHardwareSpecs": false,
    "memoryGiB": 8,
    "name": "ml.c5.xlarge",
    "vcpuNum": 4
   },
   {
    "_defaultOrder": 23,
    "_isFastLaunch": false,
    "category": "Compute optimized",
    "gpuNum": 0,
    "hideHardwareSpecs": false,
    "memoryGiB": 16,
    "name": "ml.c5.2xlarge",
    "vcpuNum": 8
   },
   {
    "_defaultOrder": 24,
    "_isFastLaunch": false,
    "category": "Compute optimized",
    "gpuNum": 0,
    "hideHardwareSpecs": false,
    "memoryGiB": 32,
    "name": "ml.c5.4xlarge",
    "vcpuNum": 16
   },
   {
    "_defaultOrder": 25,
    "_isFastLaunch": false,
    "category": "Compute optimized",
    "gpuNum": 0,
    "hideHardwareSpecs": false,
    "memoryGiB": 72,
    "name": "ml.c5.9xlarge",
    "vcpuNum": 36
   },
   {
    "_defaultOrder": 26,
    "_isFastLaunch": false,
    "category": "Compute optimized",
    "gpuNum": 0,
    "hideHardwareSpecs": false,
    "memoryGiB": 96,
    "name": "ml.c5.12xlarge",
    "vcpuNum": 48
   },
   {
    "_defaultOrder": 27,
    "_isFastLaunch": false,
    "category": "Compute optimized",
    "gpuNum": 0,
    "hideHardwareSpecs": false,
    "memoryGiB": 144,
    "name": "ml.c5.18xlarge",
    "vcpuNum": 72
   },
   {
    "_defaultOrder": 28,
    "_isFastLaunch": false,
    "category": "Compute optimized",
    "gpuNum": 0,
    "hideHardwareSpecs": false,
    "memoryGiB": 192,
    "name": "ml.c5.24xlarge",
    "vcpuNum": 96
   },
   {
    "_defaultOrder": 29,
    "_isFastLaunch": true,
    "category": "Accelerated computing",
    "gpuNum": 1,
    "hideHardwareSpecs": false,
    "memoryGiB": 16,
    "name": "ml.g4dn.xlarge",
    "vcpuNum": 4
   },
   {
    "_defaultOrder": 30,
    "_isFastLaunch": false,
    "category": "Accelerated computing",
    "gpuNum": 1,
    "hideHardwareSpecs": false,
    "memoryGiB": 32,
    "name": "ml.g4dn.2xlarge",
    "vcpuNum": 8
   },
   {
    "_defaultOrder": 31,
    "_isFastLaunch": false,
    "category": "Accelerated computing",
    "gpuNum": 1,
    "hideHardwareSpecs": false,
    "memoryGiB": 64,
    "name": "ml.g4dn.4xlarge",
    "vcpuNum": 16
   },
   {
    "_defaultOrder": 32,
    "_isFastLaunch": false,
    "category": "Accelerated computing",
    "gpuNum": 1,
    "hideHardwareSpecs": false,
    "memoryGiB": 128,
    "name": "ml.g4dn.8xlarge",
    "vcpuNum": 32
   },
   {
    "_defaultOrder": 33,
    "_isFastLaunch": false,
    "category": "Accelerated computing",
    "gpuNum": 4,
    "hideHardwareSpecs": false,
    "memoryGiB": 192,
    "name": "ml.g4dn.12xlarge",
    "vcpuNum": 48
   },
   {
    "_defaultOrder": 34,
    "_isFastLaunch": false,
    "category": "Accelerated computing",
    "gpuNum": 1,
    "hideHardwareSpecs": false,
    "memoryGiB": 256,
    "name": "ml.g4dn.16xlarge",
    "vcpuNum": 64
   },
   {
    "_defaultOrder": 35,
    "_isFastLaunch": false,
    "category": "Accelerated computing",
    "gpuNum": 1,
    "hideHardwareSpecs": false,
    "memoryGiB": 61,
    "name": "ml.p3.2xlarge",
    "vcpuNum": 8
   },
   {
    "_defaultOrder": 36,
    "_isFastLaunch": false,
    "category": "Accelerated computing",
    "gpuNum": 4,
    "hideHardwareSpecs": false,
    "memoryGiB": 244,
    "name": "ml.p3.8xlarge",
    "vcpuNum": 32
   },
   {
    "_defaultOrder": 37,
    "_isFastLaunch": false,
    "category": "Accelerated computing",
    "gpuNum": 8,
    "hideHardwareSpecs": false,
    "memoryGiB": 488,
    "name": "ml.p3.16xlarge",
    "vcpuNum": 64
   },
   {
    "_defaultOrder": 38,
    "_isFastLaunch": false,
    "category": "Accelerated computing",
    "gpuNum": 8,
    "hideHardwareSpecs": false,
    "memoryGiB": 768,
    "name": "ml.p3dn.24xlarge",
    "vcpuNum": 96
   },
   {
    "_defaultOrder": 39,
    "_isFastLaunch": false,
    "category": "Memory Optimized",
    "gpuNum": 0,
    "hideHardwareSpecs": false,
    "memoryGiB": 16,
    "name": "ml.r5.large",
    "vcpuNum": 2
   },
   {
    "_defaultOrder": 40,
    "_isFastLaunch": false,
    "category": "Memory Optimized",
    "gpuNum": 0,
    "hideHardwareSpecs": false,
    "memoryGiB": 32,
    "name": "ml.r5.xlarge",
    "vcpuNum": 4
   },
   {
    "_defaultOrder": 41,
    "_isFastLaunch": false,
    "category": "Memory Optimized",
    "gpuNum": 0,
    "hideHardwareSpecs": false,
    "memoryGiB": 64,
    "name": "ml.r5.2xlarge",
    "vcpuNum": 8
   },
   {
    "_defaultOrder": 42,
    "_isFastLaunch": false,
    "category": "Memory Optimized",
    "gpuNum": 0,
    "hideHardwareSpecs": false,
    "memoryGiB": 128,
    "name": "ml.r5.4xlarge",
    "vcpuNum": 16
   },
   {
    "_defaultOrder": 43,
    "_isFastLaunch": false,
    "category": "Memory Optimized",
    "gpuNum": 0,
    "hideHardwareSpecs": false,
    "memoryGiB": 256,
    "name": "ml.r5.8xlarge",
    "vcpuNum": 32
   },
   {
    "_defaultOrder": 44,
    "_isFastLaunch": false,
    "category": "Memory Optimized",
    "gpuNum": 0,
    "hideHardwareSpecs": false,
    "memoryGiB": 384,
    "name": "ml.r5.12xlarge",
    "vcpuNum": 48
   },
   {
    "_defaultOrder": 45,
    "_isFastLaunch": false,
    "category": "Memory Optimized",
    "gpuNum": 0,
    "hideHardwareSpecs": false,
    "memoryGiB": 512,
    "name": "ml.r5.16xlarge",
    "vcpuNum": 64
   },
   {
    "_defaultOrder": 46,
    "_isFastLaunch": false,
    "category": "Memory Optimized",
    "gpuNum": 0,
    "hideHardwareSpecs": false,
    "memoryGiB": 768,
    "name": "ml.r5.24xlarge",
    "vcpuNum": 96
   },
   {
    "_defaultOrder": 47,
    "_isFastLaunch": false,
    "category": "Accelerated computing",
    "gpuNum": 1,
    "hideHardwareSpecs": false,
    "memoryGiB": 16,
    "name": "ml.g5.xlarge",
    "vcpuNum": 4
   },
   {
    "_defaultOrder": 48,
    "_isFastLaunch": false,
    "category": "Accelerated computing",
    "gpuNum": 1,
    "hideHardwareSpecs": false,
    "memoryGiB": 32,
    "name": "ml.g5.2xlarge",
    "vcpuNum": 8
   },
   {
    "_defaultOrder": 49,
    "_isFastLaunch": false,
    "category": "Accelerated computing",
    "gpuNum": 1,
    "hideHardwareSpecs": false,
    "memoryGiB": 64,
    "name": "ml.g5.4xlarge",
    "vcpuNum": 16
   },
   {
    "_defaultOrder": 50,
    "_isFastLaunch": false,
    "category": "Accelerated computing",
    "gpuNum": 1,
    "hideHardwareSpecs": false,
    "memoryGiB": 128,
    "name": "ml.g5.8xlarge",
    "vcpuNum": 32
   },
   {
    "_defaultOrder": 51,
    "_isFastLaunch": false,
    "category": "Accelerated computing",
    "gpuNum": 1,
    "hideHardwareSpecs": false,
    "memoryGiB": 256,
    "name": "ml.g5.16xlarge",
    "vcpuNum": 64
   },
   {
    "_defaultOrder": 52,
    "_isFastLaunch": false,
    "category": "Accelerated computing",
    "gpuNum": 4,
    "hideHardwareSpecs": false,
    "memoryGiB": 192,
    "name": "ml.g5.12xlarge",
    "vcpuNum": 48
   },
   {
    "_defaultOrder": 53,
    "_isFastLaunch": false,
    "category": "Accelerated computing",
    "gpuNum": 4,
    "hideHardwareSpecs": false,
    "memoryGiB": 384,
    "name": "ml.g5.24xlarge",
    "vcpuNum": 96
   },
   {
    "_defaultOrder": 54,
    "_isFastLaunch": false,
    "category": "Accelerated computing",
    "gpuNum": 8,
    "hideHardwareSpecs": false,
    "memoryGiB": 768,
    "name": "ml.g5.48xlarge",
    "vcpuNum": 192
   },
   {
    "_defaultOrder": 55,
    "_isFastLaunch": false,
    "category": "Accelerated computing",
    "gpuNum": 8,
    "hideHardwareSpecs": false,
    "memoryGiB": 1152,
    "name": "ml.p4d.24xlarge",
    "vcpuNum": 96
   },
   {
    "_defaultOrder": 56,
    "_isFastLaunch": false,
    "category": "Accelerated computing",
    "gpuNum": 8,
    "hideHardwareSpecs": false,
    "memoryGiB": 1152,
    "name": "ml.p4de.24xlarge",
    "vcpuNum": 96
   },
   {
    "_defaultOrder": 57,
    "_isFastLaunch": false,
    "category": "Accelerated computing",
    "gpuNum": 0,
    "hideHardwareSpecs": false,
    "memoryGiB": 32,
    "name": "ml.trn1.2xlarge",
    "vcpuNum": 8
   },
   {
    "_defaultOrder": 58,
    "_isFastLaunch": false,
    "category": "Accelerated computing",
    "gpuNum": 0,
    "hideHardwareSpecs": false,
    "memoryGiB": 512,
    "name": "ml.trn1.32xlarge",
    "vcpuNum": 128
   },
   {
    "_defaultOrder": 59,
    "_isFastLaunch": false,
    "category": "Accelerated computing",
    "gpuNum": 0,
    "hideHardwareSpecs": false,
    "memoryGiB": 512,
    "name": "ml.trn1n.32xlarge",
    "vcpuNum": 128
   }
  ],
  "instance_type": "ml.t3.medium",
  "kernelspec": {
   "display_name": "trainenv",
   "language": "python",
   "name": "python3"
  },
  "language_info": {
   "codemirror_mode": {
    "name": "ipython",
    "version": 3
   },
   "file_extension": ".py",
   "mimetype": "text/x-python",
   "name": "python",
   "nbconvert_exporter": "python",
   "pygments_lexer": "ipython3",
   "version": "3.11.9"
  }
 },
 "nbformat": 4,
 "nbformat_minor": 4
}
